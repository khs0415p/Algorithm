{
 "cells": [
  {
   "cell_type": "markdown",
   "metadata": {},
   "source": [
    "**서로이어진 아파트 동수들의 정보와 선의 개수가 주어졌을때, 택배기사가 지상으로 이동하는 최소값을 리턴**\n"
   ]
  },
  {
   "cell_type": "code",
   "execution_count": 1,
   "metadata": {},
   "outputs": [
    {
     "data": {
      "text/plain": [
       "2"
      ]
     },
     "execution_count": 1,
     "metadata": {},
     "output_type": "execute_result"
    }
   ],
   "source": [
    "n = 6  # 선의 갯수라 치고\n",
    "nodelist1 = [1,2,3]\n",
    "nodelist2 = [1,2,3]\n",
    "def solution(n, lst1, lst2):\n",
    "    maxn = max(max(nodelist1), max(nodelist2))\n",
    "\n",
    "    groups = []\n",
    "    for a,b in zip(nodelist1, nodelist2):\n",
    "        addg = False\n",
    "        for i in range(len(groups)):\n",
    "            if a in groups[i]:\n",
    "                groups[i].add(b)\n",
    "                addg = True\n",
    "                break\n",
    "            elif b in groups[i]:\n",
    "                groups[i].add(a)\n",
    "                addg=True\n",
    "                break\n",
    "        if not addg:\n",
    "            groups.append({a,b})\n",
    "        \n",
    "    glist = []\n",
    "    for g in groups:\n",
    "        for i in g:\n",
    "            glist.append(i)\n",
    "\n",
    "    for i in range(1, maxn+1):\n",
    "        if i not in glist:\n",
    "            groups.append({i})\n",
    "\n",
    "    return len(groups) -1\n",
    "\n",
    "solution(n, nodelist1, nodelist2)"
   ]
  },
  {
   "cell_type": "code",
   "execution_count": null,
   "metadata": {},
   "outputs": [],
   "source": [
    "from collections import defaultdict, deque\n",
    "\n",
    "def solution(n, arr1, arr2):\n",
    "\tanswer = 0\n",
    "\tgraph = defaultdict(list)\n",
    "\t\n",
    "\tfor a, b in zip(arr1, arr2):\n",
    "\t\tgraph[a].append(b)\n",
    "\t\tgraph[b].append(a)\n",
    "\t\n",
    "\tconfirm = set()\t\n",
    "\t\n",
    "\tfor i in range(1, len(graph) + 1):\n",
    "\t\tif i in confirm:\n",
    "\t\t\tcontinue\n",
    "\t\t\t\n",
    "\t\tq = deque()\n",
    "\t\tq.append(i)\n",
    "\t\t\n",
    "\t\twhile q:\n",
    "\t\t\tend = q.popleft()\n",
    "\t\t\t\n",
    "\t\t\tfor e in graph[end]:\n",
    "\t\t\t\tif e not in confirm:\n",
    "\t\t\t\t\tq.append(e)\n",
    "\t\t\t\t\tconfirm.add(e)\n",
    "\n",
    "\t\tanswer += 1\n",
    "\treturn answer - 1\n",
    "\t\n",
    "n = 6\n",
    "arr1 = [3, 1, 6, 4, 7, 8, 9]\n",
    "arr2 = [2, 3, 2, 5, 5, 9, 10]\n",
    "print(solution(n, arr1, arr2))"
   ]
  },
  {
   "cell_type": "markdown",
   "metadata": {},
   "source": [
    "\n",
    "멀쩡한 사각형"
   ]
  },
  {
   "cell_type": "code",
   "execution_count": 36,
   "metadata": {},
   "outputs": [
    {
     "name": "stdout",
     "output_type": "stream",
     "text": [
      "66822\n"
     ]
    }
   ],
   "source": [
    "import math\n",
    "\n",
    "def solution(w,h):\n",
    "    gcd = math.gcd(w,h)\n",
    "    total = w*h\n",
    "    w,h = min(w,h), max(w,h)\n",
    "    prev_result = 0\n",
    "    broken_square = 0\n",
    "    for i in range(1,w//gcd+1):\n",
    "        y=h/w*i\n",
    "        broken_square += math.ceil(y) - prev_result\n",
    "        prev_result = math.floor(y)\n",
    "    return total - broken_square * gcd"
   ]
  },
  {
   "cell_type": "code",
   "execution_count": 17,
   "metadata": {},
   "outputs": [
    {
     "name": "stdout",
     "output_type": "stream",
     "text": [
      "1\n",
      "80\n"
     ]
    }
   ],
   "source": [
    "import math\n",
    "\n",
    "def solution(w,h):\n",
    "    gcd = math.gcd(w,h)\n",
    "    w,h = min(w,h), max(w,h)\n",
    "    answer = 0\n",
    "    for i in range(1,w//gcd):\n",
    "        res = h/w*i\n",
    "        answer += math.floor(res)\n",
    "    \n",
    "        \n",
    "    return w*h - ((w//gcd) * (h//gcd)-(answer*2)) * gcd\n",
    "\n",
    "print(solution(8,12))"
   ]
  },
  {
   "cell_type": "markdown",
   "metadata": {},
   "source": [
    "기능개발<br>\n"
   ]
  },
  {
   "cell_type": "code",
   "execution_count": 23,
   "metadata": {},
   "outputs": [
    {
     "data": {
      "text/plain": [
       "[2, 1]"
      ]
     },
     "execution_count": 23,
     "metadata": {},
     "output_type": "execute_result"
    }
   ],
   "source": [
    "import math\n",
    "\n",
    "progresses = [93, 30, 55]\n",
    "speeds = [1, 30, 5]\n",
    "def solution(progresses, speeds):\n",
    "    results = []\n",
    "    while progresses:\n",
    "        if progresses[0] >= 100:\n",
    "            \n",
    "            results.append(0)            \n",
    "            while progresses[0] >= 100:\n",
    "                progresses.pop(0)\n",
    "                speeds.pop(0)\n",
    "                results[-1] += 1\n",
    "                if not progresses:\n",
    "                    break\n",
    "\n",
    "        else:\n",
    "            for idx, p in enumerate(progresses):\n",
    "                progresses[idx] = p+speeds[idx]\n",
    "\n",
    "    return results\n",
    "\n",
    "solution(progresses, speeds)"
   ]
  },
  {
   "cell_type": "code",
   "execution_count": 38,
   "metadata": {},
   "outputs": [
    {
     "data": {
      "text/plain": [
       "[2, 1]"
      ]
     },
     "execution_count": 38,
     "metadata": {},
     "output_type": "execute_result"
    }
   ],
   "source": [
    "from collections import deque\n",
    "import math\n",
    "\n",
    "def solution(progresses, speeds):\n",
    "    days = [math.ceil((100-p)/s) for p,s in zip(progresses, speeds)]\n",
    "    results = [[days[0],1]]\n",
    "\n",
    "    for day in days[1:]:\n",
    "        \n",
    "        if results[-1][0] >= day:\n",
    "            results[-1][1] += 1\n",
    "        else:\n",
    "            results.append([day,1])\n",
    "    return [result[1] for result in results]\n",
    "\n",
    "progresses = [93, 30, 55]\n",
    "speeds = [1, 30, 5]\n",
    "solution(progresses, speeds)"
   ]
  },
  {
   "cell_type": "markdown",
   "metadata": {},
   "source": [
    "타겟넘버<br>\n",
    "\n",
    "문제 설명<br>\n",
    "n개의 음이 아닌 정수들이 있습니다. 이 정수들을 순서를 바꾸지 않고 적절히 더하거나 빼서 타겟 넘버를 만들려고 합니다. <br>\n",
    "예를 들어 [1, 1, 1, 1, 1]로 숫자 3을 만들려면 다음 다섯 방법을 쓸 수 있습니다."
   ]
  },
  {
   "cell_type": "code",
   "execution_count": null,
   "metadata": {},
   "outputs": [],
   "source": [
    "# YR\n",
    "# p - m = p - (s-p)\n",
    "from itertools import combinations\n",
    "def solution(numbers, target):\n",
    "    \n",
    "    answer = 0\n",
    "    S = sum(numbers)\n",
    "    \n",
    "    for l in range(len(numbers)+1):\n",
    "        for plus_set in combinations(numbers, l):\n",
    "            if (2*sum(plus_set)-S)==target:\n",
    "                answer +=1\n",
    "                \n",
    "    return answer\n"
   ]
  },
  {
   "cell_type": "code",
   "execution_count": 40,
   "metadata": {},
   "outputs": [
    {
     "data": {
      "text/plain": [
       "5"
      ]
     },
     "execution_count": 40,
     "metadata": {},
     "output_type": "execute_result"
    }
   ],
   "source": [
    "# BFS\n",
    "from collections import deque\n",
    "numbers = [1,1,1,1,1]\n",
    "target = 3\n",
    "def solution(numbers, target):\n",
    "    n = len(numbers)\n",
    "    Q = deque()\n",
    "    Q.append([numbers[0],0])\n",
    "    Q.append([-numbers[0],0])\n",
    "    answer = 0\n",
    "    while Q:\n",
    "        num, idx = Q.popleft()\n",
    "        idx+=1\n",
    "        if idx < n:\n",
    "            Q.appendleft([num+numbers[idx], idx])\n",
    "            Q.appendleft([num-numbers[idx], idx])\n",
    "\n",
    "        else:\n",
    "            if num == target:\n",
    "                answer += 1\n",
    "    return answer\n"
   ]
  },
  {
   "cell_type": "code",
   "execution_count": 44,
   "metadata": {},
   "outputs": [
    {
     "data": {
      "text/plain": [
       "5"
      ]
     },
     "execution_count": 44,
     "metadata": {},
     "output_type": "execute_result"
    }
   ],
   "source": [
    "# DFS\n",
    "def solution(numbers, target):\n",
    "    n = len(numbers)\n",
    "    stack = [[numbers[0],0], [-numbers[0],0]]\n",
    "    answer = 0\n",
    "    while stack:\n",
    "        num, idx = stack.pop()\n",
    "        idx += 1\n",
    "        if idx < n:\n",
    "            stack.append([num+numbers[idx],idx])\n",
    "            stack.append([num-numbers[idx],idx])\n",
    "\n",
    "        else:\n",
    "            if num == target:\n",
    "                answer += 1\n",
    "    return answer\n",
    "\n",
    "numbers = [1,1,1,1,1]\n",
    "target = 3\n",
    "solution(numbers, target)\n",
    "\n"
   ]
  },
  {
   "cell_type": "code",
   "execution_count": 47,
   "metadata": {},
   "outputs": [
    {
     "data": {
      "text/plain": [
       "2"
      ]
     },
     "execution_count": 47,
     "metadata": {},
     "output_type": "execute_result"
    }
   ],
   "source": [
    "# recursive\n",
    "def solution(numbers, target):\n",
    "    n = len(numbers)\n",
    "    answer = 0\n",
    "    def recursive(idx, num):\n",
    "        if idx == n:\n",
    "            if num == target:\n",
    "                nonlocal answer\n",
    "                answer += 1\n",
    "\n",
    "        else:\n",
    "            recursive(idx+1, num+numbers[idx])\n",
    "            recursive(idx+1, num-numbers[idx])\n",
    "\n",
    "    recursive(0, 0)\n",
    "    return answer\n",
    "\n",
    "numbers = [4,1,2,1]\n",
    "target = 4\n",
    "solution(numbers, target)"
   ]
  },
  {
   "cell_type": "markdown",
   "metadata": {},
   "source": [
    "더 맵게"
   ]
  },
  {
   "cell_type": "code",
   "execution_count": 54,
   "metadata": {},
   "outputs": [
    {
     "data": {
      "text/plain": [
       "2"
      ]
     },
     "execution_count": 54,
     "metadata": {},
     "output_type": "execute_result"
    }
   ],
   "source": [
    "import heapq\n",
    "\n",
    "def solution(scoville,k):\n",
    "    answer = 0\n",
    "    heapq.heapify(scoville)\n",
    "    while scoville[0] < k:\n",
    "        if len(scoville) > 1:\n",
    "            f = heapq.heappop(scoville)\n",
    "            s = heapq.heappop(scoville)\n",
    "            heapq.heappush(scoville, f + (s*2))\n",
    "            answer += 1\n",
    "        else:\n",
    "            return -1\n",
    "    return answer\n",
    "\n",
    "scoville = [1,2,3,9,10,12]\n",
    "k = 7\n",
    "solution(scoville, k)"
   ]
  },
  {
   "cell_type": "markdown",
   "metadata": {},
   "source": [
    "짝지어 제거하기"
   ]
  },
  {
   "cell_type": "code",
   "execution_count": 59,
   "metadata": {},
   "outputs": [
    {
     "data": {
      "text/plain": [
       "1"
      ]
     },
     "execution_count": 59,
     "metadata": {},
     "output_type": "execute_result"
    }
   ],
   "source": [
    "import re\n",
    "\n",
    "string = 'baabaa'\n",
    "\n",
    "def solution(s):\n",
    "    check = [s[0]]\n",
    "\n",
    "    for ss in s[1:]:\n",
    "        if not check:\n",
    "            check.append(ss)\n",
    "        elif check[-1] == ss:\n",
    "            check.pop()\n",
    "        else:\n",
    "            check.append(ss)\n",
    "        \n",
    "    \n",
    "    return 0 if check else 1\n",
    "\n",
    "solution(string)"
   ]
  },
  {
   "cell_type": "markdown",
   "metadata": {},
   "source": [
    "행렬테두리회전"
   ]
  },
  {
   "cell_type": "code",
   "execution_count": 60,
   "metadata": {},
   "outputs": [
    {
     "data": {
      "text/plain": [
       "[8, 10, 25]"
      ]
     },
     "execution_count": 60,
     "metadata": {},
     "output_type": "execute_result"
    }
   ],
   "source": [
    "def solution(rows, columns, queries):\n",
    "    results = []\n",
    "    matrix = [[r*columns + (c+1) for c in range(columns)] for r in range(rows)]\n",
    "    for x1, y1, x2, y2 in queries:\n",
    "        min_v = float('inf')\n",
    "        coordinates = []\n",
    "        for x in range(x1-1, x2):\n",
    "            if x == x1-1 or x == x2-1:\n",
    "                for y in range(y1-1, y2):\n",
    "                    cur = matrix[x][y]\n",
    "                    min_v = min(min_v, cur)\n",
    "                    coordinates.append([cur, (x,y)])\n",
    "            else:\n",
    "                left, right =matrix[x][y1-1], matrix[x][y2-1]\n",
    "                min_v = min(min_v, left, right)\n",
    "                coordinates.append([left,(x,y1-1)])\n",
    "                coordinates.append([right,(x,y2-1)])\n",
    "\n",
    "        results.append(min_v)\n",
    "\n",
    "        for n,c in coordinates:\n",
    "            ## 상하좌우\n",
    "            # 우\n",
    "            if c[0] == x1-1 and c[1] != y2-1:\n",
    "                matrix[c[0]][c[1]+1] = n\n",
    "            # 좌\n",
    "            elif c[0] == x2-1 and c[1] != y1-1:\n",
    "                matrix[c[0]][c[1]-1] = n\n",
    "            # 상\n",
    "            elif c[1] == y1-1 and c[0] != x1-1:\n",
    "                matrix[c[0]-1][c[1]] = n\n",
    "            # 하\n",
    "            else:\n",
    "                matrix[c[0]+1][c[1]] = n\n",
    "    return results\n",
    "r,c = 6,6\n",
    "q = [[2,2,5,4],[3,3,6,6],[5,1,6,3]]\n",
    "solution(r,c,q)"
   ]
  },
  {
   "cell_type": "code",
   "execution_count": null,
   "metadata": {},
   "outputs": [],
   "source": [
    "def solution(rows, columns, queries):\n",
    "    answer = []\n",
    "\n",
    "    board = [[i+(j)*columns for i in range(1,columns+1)] for j in range(rows)]\n",
    "    # print(board)\n",
    "\n",
    "    for a,b,c,d in queries:\n",
    "        stack = []\n",
    "        r1, c1, r2, c2 = a-1, b-1, c-1, d-1\n",
    "\n",
    "\n",
    "        for i in range(c1, c2+1):\n",
    "\n",
    "            stack.append(board[r1][i])\n",
    "            if len(stack) == 1:\n",
    "                continue\n",
    "            else:\n",
    "                board[r1][i] = stack[-2]\n",
    "\n",
    "\n",
    "        for j in range(r1+1, r2+1):\n",
    "            stack.append(board[j][i])\n",
    "            board[j][i] = stack[-2]\n",
    "\n",
    "        for k in range(c2-1, c1-1, -1):\n",
    "            stack.append(board[j][k])\n",
    "            board[j][k] = stack[-2]\n",
    "\n",
    "        for l in range(r2-1, r1-1, -1):\n",
    "            stack.append(board[l][k])\n",
    "            board[l][k] = stack[-2]\n",
    "\n",
    "        answer.append(min(stack))\n",
    "\n",
    "\n",
    "    return answer"
   ]
  },
  {
   "cell_type": "markdown",
   "metadata": {},
   "source": [
    "메뉴 리뉴얼"
   ]
  },
  {
   "cell_type": "code",
   "execution_count": 62,
   "metadata": {},
   "outputs": [
    {
     "name": "stdout",
     "output_type": "stream",
     "text": [
      "Counter({'XY': 2, 'WX': 2, 'XZ': 1, 'YZ': 1, 'WY': 1, 'AW': 1, 'AX': 1})\n",
      "Counter({'XYZ': 1, 'WXY': 1, 'AWX': 1})\n"
     ]
    },
    {
     "data": {
      "text/plain": [
       "['WX', 'XY']"
      ]
     },
     "execution_count": 62,
     "metadata": {},
     "output_type": "execute_result"
    }
   ],
   "source": [
    "from collections import Counter\n",
    "from itertools import combinations\n",
    "def solution(orders, course):\n",
    "    results = []\n",
    "    for i in course:\n",
    "        counter = Counter()\n",
    "        for order in orders:\n",
    "            order=\"\".join(sorted(order))\n",
    "            for c_set in combinations(order,i):\n",
    "                counter.update([\"\".join(c_set)])\n",
    "        if not counter:\n",
    "            continue\n",
    "        print(counter)\n",
    "        max_value = max(counter.values())\n",
    "        if max_value < 2:\n",
    "            continue\n",
    "        for k, v in counter.items():\n",
    "            if v == max_value:\n",
    "                results.append(\"\".join(k))\n",
    "\n",
    "    results.sort()\n",
    "    return results\n",
    "orders = [\"XYZ\", \"XWY\", \"WXA\"]\n",
    "course = [2,3,4]\n",
    "\n",
    "solution(orders, course)"
   ]
  },
  {
   "cell_type": "code",
   "execution_count": null,
   "metadata": {},
   "outputs": [],
   "source": [
    "import collections\n",
    "import itertools\n",
    "\n",
    "def solution(orders, course):\n",
    "    result = []\n",
    "\n",
    "    for course_size in course:\n",
    "        order_combinations = []\n",
    "        for order in orders:\n",
    "            order_combinations += itertools.combinations(sorted(order), course_size)\n",
    "        most_ordered = collections.Counter(order_combinations).most_common()\n",
    "        # out of index ??????????????\n",
    "        result += [ k for k, v in most_ordered if v > 1 and v == most_ordered[0][1] ]\n",
    "\n",
    "    return [ ''.join(v) for v in sorted(result) ]"
   ]
  }
 ],
 "metadata": {
  "interpreter": {
   "hash": "31f2aee4e71d21fbe5cf8b01ff0e069b9275f58929596ceb00d14d90e3e16cd6"
  },
  "kernelspec": {
   "display_name": "Python 3.6.8 64-bit",
   "language": "python",
   "name": "python3"
  },
  "language_info": {
   "codemirror_mode": {
    "name": "ipython",
    "version": 3
   },
   "file_extension": ".py",
   "mimetype": "text/x-python",
   "name": "python",
   "nbconvert_exporter": "python",
   "pygments_lexer": "ipython3",
   "version": "3.8.9"
  },
  "orig_nbformat": 4
 },
 "nbformat": 4,
 "nbformat_minor": 2
}

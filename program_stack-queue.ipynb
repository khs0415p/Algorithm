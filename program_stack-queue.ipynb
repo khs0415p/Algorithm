{
 "cells": [
  {
   "cell_type": "markdown",
   "metadata": {},
   "source": [
    "기능개발\n",
    "\n",
    "각 기능은 진도가 100%일 때 서비스에 반영  \n",
    "\n",
    "또, 각 기능의 개발속도는 모두 다르기 때문에 뒤에 있는 기능이 앞에 있는 기능보다 먼저 개발될 수 있고, 이때 뒤에 있는 기능은 앞에 있는 기능이 배포될 때 함께 배포  \n",
    "\n",
    "먼저 배포되어야 하는 순서대로 작업의 진도가 적힌 정수 배열 progresses와 각 작업의 개발 속도가 적힌 정수 배열 speeds가 주어질 때 각 배포마다 몇 개의 기능이 배포되는지를 return 하도록 solution 함수를 완성  \n",
    "\n",
    "작업의 개수(progresses, speeds배열의 길이)는 100개 이하  \n",
    "작업 진도는 100 미만의 자연수  \n",
    "작업 속도는 100 이하의 자연수  \n",
    "배포는 하루에 한 번만 할 수 있으며, 하루의 끝에 이루어진다고 가정  "
   ]
  },
  {
   "cell_type": "code",
   "execution_count": 27,
   "metadata": {},
   "outputs": [
    {
     "data": {
      "text/plain": [
       "[1, 3, 2]"
      ]
     },
     "execution_count": 27,
     "metadata": {},
     "output_type": "execute_result"
    }
   ],
   "source": [
    "import math\n",
    "\n",
    "def solution(progresses, speeds):\n",
    "    days = list(map(lambda x: math.ceil((100-x[0])/x[1]), zip(progresses, speeds)))\n",
    "    # (p-100)//s \n",
    "    \n",
    "    stack = [[days[0], 1]]\n",
    "    for day in days[1:]:\n",
    "        if stack[-1][0] < day:\n",
    "            stack.append([day, 1])\n",
    "\n",
    "        else:\n",
    "            stack[-1][1] += 1\n",
    "            \n",
    "\n",
    "    return [ s[1] for s in stack]\n",
    "\n",
    "def solution2(progresses, speeds):\n",
    "\n",
    "    stack = []\n",
    "    for p,s in zip(progresses, speeds):\n",
    "\n",
    "        if not stack or stack[-1][0] < -((p-100)//s):\n",
    "            stack.append([-((p-100)//s),1])\n",
    "\n",
    "        else:\n",
    "            stack[-1][1] += 1\n",
    "\n",
    "    return [ s[1] for s in stack]\n",
    "\n",
    "    \n",
    "\n",
    "\n",
    " \n",
    "progresses = [93, 30, 55]\n",
    "speeds = [1, 30, 5]\n",
    "progresses = [95, 90, 99, 99, 80, 99]\n",
    "speeds = [1, 1, 1, 1, 1, 1]\n",
    "\n",
    "solution2(progresses, speeds)"
   ]
  },
  {
   "cell_type": "markdown",
   "metadata": {},
   "source": [
    "프린터\n",
    "\n",
    "중요도가 높은 문서를 먼저 인쇄하는 프린터  \n",
    "\n",
    "1. 인쇄 대기목록의 가장 앞에 있는 문서(J)를 대기목록에서 꺼냅니다.  \n",
    "2. 나머지 인쇄 대기목록에서 J보다 중요도가 높은 문서가 한 개라도 존재하면 J를 대기목록의 가장 마지막에 넣습니다.  \n",
    "3. 그렇지 않으면 J를 인쇄합니다.  \n",
    "예를 들어, 4개의 문서(A, B, C, D)가 순서대로 인쇄 대기목록에 있고 중요도가 2 1 3 2 라면 C D A B 순으로 인쇄하게 됩니다.  \n",
    "\n",
    "내가 인쇄를 요청한 문서가 몇 번째로 인쇄되는지 알고 싶습니다. 위의 예에서 C는 1번째로, A는 3번째로 인쇄됩니다.  \n",
    "\n",
    "현재 대기목록에 있는 문서의 중요도가 순서대로 담긴 배열 priorities와 내가 인쇄를 요청한 문서가 현재 대기목록의 어떤 위치에 있는지를 알려주는 location이 매개변수  \n",
    "내가 인쇄를 요청한 문서가 몇 번째로 인쇄되는지 return  \n",
    "\n",
    "제한사항  \n",
    "현재 대기목록에는 1개 이상 100개 이하의 문서가 있습니다.  \n",
    "인쇄 작업의 중요도는 1~9로 표현하며 숫자가 클수록 중요하다는 뜻입니다.  \n",
    "location은 0 이상 (현재 대기목록에 있는 작업 수 - 1) 이하의 값을 가지며 대기목록의 가장 앞에 있으면 0, 두 번째에 있으면 1로 표현합니다.  "
   ]
  },
  {
   "cell_type": "code",
   "execution_count": 79,
   "metadata": {},
   "outputs": [
    {
     "data": {
      "text/plain": [
       "4"
      ]
     },
     "execution_count": 79,
     "metadata": {},
     "output_type": "execute_result"
    }
   ],
   "source": [
    "def solution(priorities, location):\n",
    "    priorities = list(map(lambda x: [x[1],x[0]], enumerate(priorities)))\n",
    "\n",
    "    answer = 0    \n",
    "    while True:\n",
    "        # index 0 (priority), 1 (idx)\n",
    "        pivot = priorities.pop(0)\n",
    "\n",
    "        if priorities and pivot[0] < max(priorities)[0]:\n",
    "            priorities.append(pivot)\n",
    "\n",
    "        else:\n",
    "            \n",
    "            answer += 1\n",
    "            if pivot[1] == location:\n",
    "                return answer\n",
    "\n",
    "# priorities\tlocation\treturn\n",
    "# [2, 1, 3, 2]\t2\t1\n",
    "# [1, 1, 9, 1, 1, 1]\t0\t5\n",
    "\n",
    "priorities = [3,3,4,2]\n",
    "location = 3\n",
    "\n",
    "solution(priorities, location)"
   ]
  },
  {
   "cell_type": "markdown",
   "metadata": {},
   "source": [
    "다리를 지나는 트럭  \n",
    "\n",
    "bridge_length는 1 이상 10,000 이하입니다.  \n",
    "weight는 1 이상 10,000 이하입니다.  \n",
    "truck_weights의 길이는 1 이상 10,000 이하입니다.  \n",
    "모든 트럭의 무게는 1 이상 weight 이하입니다.  "
   ]
  },
  {
   "cell_type": "code",
   "execution_count": 25,
   "metadata": {},
   "outputs": [
    {
     "data": {
      "text/plain": [
       "110"
      ]
     },
     "execution_count": 25,
     "metadata": {},
     "output_type": "execute_result"
    }
   ],
   "source": [
    "def solution(bridge_length, weight, truck_weights):\n",
    "    truck_weights = truck_weights\n",
    "    bridge = [0 for _ in range(bridge_length)]\n",
    "    time = 0\n",
    "    while bridge:\n",
    "        time += 1\n",
    "        bridge.pop(0)\n",
    "        if truck_weights:    \n",
    "\n",
    "            if sum(bridge) + truck_weights[0] <= weight:\n",
    "\n",
    "                bridge.append(truck_weights.pop(0))\n",
    "\n",
    "            else:\n",
    "\n",
    "                bridge.append(0)\n",
    "\n",
    "    return time\n",
    "bridge_length = 100\n",
    "weight = 100\n",
    "truck_weight = [10, 10, 10, 10, 10, 10, 10, 10, 10, 10]\n",
    "\n",
    "solution(bridge_length, weight, truck_weight)"
   ]
  },
  {
   "cell_type": "markdown",
   "metadata": {},
   "source": [
    "주식가격  \n",
    "주식가격이 담긴 배열 prices가 매개변수로 주어질 때, 가격이 떨어지지 않은 기간은 몇 턴인지를 return\n",
    "  \n",
    "prices의 각 가격은 1 이상 10,000 이하인 자연수  \n",
    "prices의 길이는 2 이상 100,000 이하  \n",
    "  \n",
    "1초 시점의 ₩1은 끝까지 가격이 떨어지지 않았습니다.  \n",
    "2초 시점의 ₩2은 끝까지 가격이 떨어지지 않았습니다.  \n",
    "3초 시점의 ₩3은 1초뒤에 가격이 떨어집니다. 따라서 1초간 가격이 떨어지지 않은 것으로 봅니다.  \n",
    "4초 시점의 ₩2은 1초간 가격이 떨어지지 않았습니다.  \n",
    "5초 시점의 ₩3은 0초간 가격이 떨어지지 않았습니다.  "
   ]
  },
  {
   "cell_type": "code",
   "execution_count": 46,
   "metadata": {},
   "outputs": [
    {
     "data": {
      "text/plain": [
       "[4, 3, 1, 1, 0]"
      ]
     },
     "execution_count": 46,
     "metadata": {},
     "output_type": "execute_result"
    }
   ],
   "source": [
    "# prices\treturn\n",
    "# [1, 2, 3, 2, 3]\t[4, 3, 1, 1, 0]\n",
    "\n",
    "# 두번째 for loop에서 리스트를 불러오는게 훨씬 시간이 오래 걸림\n",
    "# i+1 ~ length까지 range를 사용하는게 빠르다.\n",
    "# 스택,큐라는 주제와 벗어나는 문제 풀이법이라 두가지 풀이법 생각하기\n",
    "\n",
    "def solution(prices):\n",
    "    length = len(prices)\n",
    "    answer = [0] * length\n",
    "\n",
    "    for i in range(length-1):\n",
    "        pivot = prices[i]\n",
    "        for nxt in prices[i+1:]:\n",
    "            answer[i] += 1\n",
    "            if nxt < pivot:\n",
    "                break\n",
    "\n",
    "    return answer\n",
    "\n",
    "def solution2(prices):\n",
    "    length = len(prices)\n",
    "    answer = [0] * length\n",
    "\n",
    "    for i in range(length-1):\n",
    "        pivot = prices[i]\n",
    "        for j in range(i+1, length):\n",
    "            answer[i] += 1\n",
    "            if prices[j] < pivot:\n",
    "                break\n",
    "    return answer\n",
    "\n",
    "\n",
    "from collections import deque\n",
    "\n",
    "def solution3(prices):\n",
    "    prices = deque(prices)\n",
    "    answer = []\n",
    "    while prices:\n",
    "        pivot = prices.popleft()\n",
    "        time = 0\n",
    "        for price in prices:\n",
    "            time += 1\n",
    "            if pivot > price:\n",
    "                break\n",
    "\n",
    "        answer.append(time)\n",
    "            \n",
    "    return answer\n",
    "\n",
    "prices = [1,2,3,2,3]\n",
    "solution3(prices)"
   ]
  },
  {
   "cell_type": "markdown",
   "metadata": {},
   "source": [
    "같은 숫자는 싫어  \n",
    "\n",
    "arr의 각 원소는 숫자 0부터 9까지로 이루어져 있다.  \n",
    "arr에서 연속적으로 나타나는 숫자는 하나만 남기고 전부 제거하려고 한다.  \n",
    "단, 제거된 후 남은 수들을 반환할 때는 배열 arr의 원소들의 순서를 유지  \n",
    "  \n",
    "arr = [1, 1, 3, 3, 0, 1, 1] 이면 [1, 3, 0, 1] 을 return  \n",
    "arr = [4, 4, 4, 3, 3] 이면 [4, 3]  \n",
    "  \n",
    "배열 arr의 크기 : 1,000,000 이하의 자연수  \n",
    "배열 arr의 원소의 크기 : 0보다 크거나 같고 9보다 작거나 같은 정수  "
   ]
  },
  {
   "cell_type": "code",
   "execution_count": 47,
   "metadata": {},
   "outputs": [
    {
     "data": {
      "text/plain": [
       "[1, 3, 0, 1]"
      ]
     },
     "execution_count": 47,
     "metadata": {},
     "output_type": "execute_result"
    }
   ],
   "source": [
    "def solution(arr):\n",
    "\n",
    "    stack = [arr.pop(0)]\n",
    "    while arr:\n",
    "        curNumber = arr.pop(0)\n",
    "        if stack[-1] != curNumber:\n",
    "            stack.append(curNumber)\n",
    "    \n",
    "    return stack\n",
    "\n",
    "\n",
    "def solution2(arr):\n",
    "    \n",
    "    answer=[arr[0]]\n",
    "    for i in arr[1:]:\n",
    "                \n",
    "        if answer[-1]!=i:\n",
    "            answer.append(i)\n",
    "        \n",
    "    return answer\n",
    "\n",
    "# arr\tanswer\n",
    "# [1,1,3,3,0,1,1]\t[1,3,0,1]\n",
    "# [4,4,4,3,3]\t[4,3]\n",
    "\n",
    "arr = [1,1,3,3,0,1,1]\n",
    "solution(arr)"
   ]
  },
  {
   "cell_type": "markdown",
   "metadata": {},
   "source": [
    "올바른 괄호  \n",
    "\n",
    "괄호가 바르게 짝지어졌다는 것은 '(' 문자로 열렸으면 반드시 짝지어서 ')' 문자로 닫혀야 한다는 뜻  \n",
    "\n",
    "\"()()\" 또는 \"(())()\" 는 올바른 괄호  \n",
    "\")()(\" 또는 \"(()(\" 는 올바르지 않은 괄호  \n",
    "'(' 또는 ')' 로만 이루어진 문자열 s가 주어졌을 때, 문자열 s가 올바른 괄호이면 true를 return 하고, 올바르지 않은 괄호이면 false를 return  \n",
    "  \n",
    "제한사항  \n",
    "문자열 s의 길이 : 100,000 이하의 자연수  \n",
    "문자열 s는 '(' 또는 ')' 로만 이루어짐  "
   ]
  },
  {
   "cell_type": "code",
   "execution_count": 56,
   "metadata": {},
   "outputs": [
    {
     "data": {
      "text/plain": [
       "False"
      ]
     },
     "execution_count": 56,
     "metadata": {},
     "output_type": "execute_result"
    }
   ],
   "source": [
    "from collections import deque\n",
    "def solution(s):\n",
    "    stringList = deque(s)\n",
    "    stack = [stringList.popleft()]\n",
    "    while stringList:\n",
    "        curStr = stringList.popleft()\n",
    "\n",
    "        if curStr == '(':\n",
    "            stack.append(curStr)\n",
    "\n",
    "        elif not stack:\n",
    "            return False\n",
    "\n",
    "        else:\n",
    "            stack.pop()\n",
    "\n",
    "    return not stack\n",
    "\n",
    "# 입출력 예\n",
    "# s\tanswer\n",
    "# \"()()\"\ttrue\n",
    "# \"(())()\"\ttrue\n",
    "# \")()(\"\tfalse\n",
    "# \"(()(\"\tfalse\n",
    "s = \"()()\"\n",
    "s = \"(())()\"\n",
    "s = \")()(\"\n",
    "s = \"(()(\"\n",
    "s = \")))))))))\"\n",
    "solution(s)"
   ]
  }
 ],
 "metadata": {
  "kernelspec": {
   "display_name": "Python 3.9.10 64-bit",
   "language": "python",
   "name": "python3"
  },
  "language_info": {
   "codemirror_mode": {
    "name": "ipython",
    "version": 3
   },
   "file_extension": ".py",
   "mimetype": "text/x-python",
   "name": "python",
   "nbconvert_exporter": "python",
   "pygments_lexer": "ipython3",
   "version": "3.9.10"
  },
  "orig_nbformat": 4,
  "vscode": {
   "interpreter": {
    "hash": "b0fa6594d8f4cbf19f97940f81e996739fb7646882a419484c72d19e05852a7e"
   }
  }
 },
 "nbformat": 4,
 "nbformat_minor": 2
}

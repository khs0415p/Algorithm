{
 "cells": [
  {
   "cell_type": "markdown",
   "metadata": {},
   "source": [
    "괄호 변환"
   ]
  },
  {
   "cell_type": "code",
   "execution_count": 1,
   "metadata": {},
   "outputs": [
    {
     "name": "stdout",
     "output_type": "stream",
     "text": [
      "(()())()\n",
      "()\n"
     ]
    }
   ],
   "source": [
    "def solution(p):\n",
    "    check_dict = {\"(\":\")\",\")\":\"(\"}\n",
    "\n",
    "    if not p:\n",
    "        return p\n",
    "\n",
    "    u, v = '', ''\n",
    "    l_cnt, r_cnt = 0, 0\n",
    "\n",
    "    for idx,bracket in enumerate(p):\n",
    "        u += bracket\n",
    "\n",
    "        if bracket == \"(\":\n",
    "            l_cnt += 1\n",
    "\n",
    "        else:\n",
    "            r_cnt += 1\n",
    "\n",
    "        if l_cnt == r_cnt:\n",
    "            v = p[idx+1:]\n",
    "            break\n",
    "\n",
    "    def check(brackets):\n",
    "        stack = [brackets[0]]\n",
    "        if stack[-1] == \")\":\n",
    "            return False\n",
    "\n",
    "        for b in brackets[1:]:\n",
    "            if stack[-1] != b:\n",
    "                stack.pop()\n",
    "\n",
    "            else:\n",
    "                stack.append(b)\n",
    "        return False if stack else True\n",
    "    \n",
    "        \n",
    "    if check(u):\n",
    "        return u + solution(v)\n",
    "\n",
    "    else:\n",
    "        return \"(\" + solution(v) + \")\" + \"\".join([check_dict[i]for i in u[1:-1]])\n",
    "\n",
    "p = [\"(()())(\", \")(\"]\n",
    "for i in p:\n",
    "    print(solution(i))"
   ]
  },
  {
   "cell_type": "markdown",
   "metadata": {},
   "source": [
    "뉴스 클러스터링"
   ]
  },
  {
   "cell_type": "code",
   "execution_count": null,
   "metadata": {},
   "outputs": [],
   "source": [
    "def solution(str1, str2):\n",
    "    from collections import Counter\n",
    "    import re\n",
    "    str1_lst = [str1[i:i+2].upper() for i in range(len(str1)-1) if len(re.sub(\"[^a-zA-Z]\",\"\",str1[i:i+2]))==2]\n",
    "    str2_lst = [str2[i:i+2].upper() for i in range(len(str2)-1) if len(re.sub(\"[^a-zA-Z]\",\"\",str2[i:i+2]))==2]\n",
    "    \n",
    "    if len(str1_lst+str2_lst) == 0:\n",
    "        return 65536\n",
    "\n",
    "    str1_count = Counter(str1_lst)\n",
    "    str2_count = Counter(str2_lst)\n",
    "\n",
    "    # Counter도 set처럼 집합처럼 이용할 수 있음.\n",
    "    # uni = len(list((Counter1 & Counter2).elements())) ---> max\n",
    "    # inter = len(list((Counter1 | Counter2).elements())) ---> min\n",
    "\n",
    "    uni = 0\n",
    "    inter = 0\n",
    "    for k,v in str1_count.items():\n",
    "        uni += max(v, str2_count.get(k, 0))\n",
    "        if str2_count.get(k,None):\n",
    "            inter += min(v, str2_count.get(k))\n",
    "            str2_count.pop(k)\n",
    "\n",
    "    for k,v in str2_count.items():\n",
    "        uni += v\n",
    "\n",
    "    return int(inter/uni* 65536)"
   ]
  },
  {
   "cell_type": "code",
   "execution_count": null,
   "metadata": {},
   "outputs": [],
   "source": [
    "def solution(str1, str2):\n",
    "    answer = 0\n",
    "    str1 = [str1[i:i+2].upper() for i in range(len(str1)-1) if str1[i:i+2].isalpha() ]\n",
    "    \n",
    "    str2 = [str2[i:i+2].upper() for i in range(len(str2)-1) if str2[i:i+2].isalpha()]\n",
    "    \n",
    "    if len(set(str1)|set(str2))==0:return 65536\n",
    "    \n",
    "    pa=0\n",
    "    ch=0\n",
    "    \n",
    "    for j in set(str1) & set(str2):\n",
    "        m=min(str1.count(j),str2.count(j))\n",
    "        \n",
    "        ch += m\n",
    "        \n",
    "    for j in set(str1)|set(str2):\n",
    "        M=max(str1.count(j),str2.count(j))\n",
    "        pa += M\n",
    "    \n",
    "    return int(ch/pa*65536)\n"
   ]
  },
  {
   "cell_type": "markdown",
   "metadata": {},
   "source": [
    "거리두기 확인하기"
   ]
  },
  {
   "cell_type": "code",
   "execution_count": 55,
   "metadata": {},
   "outputs": [
    {
     "data": {
      "text/plain": [
       "[1, 0, 1, 1, 1]"
      ]
     },
     "execution_count": 55,
     "metadata": {},
     "output_type": "execute_result"
    }
   ],
   "source": [
    "from collections import deque\n",
    "\n",
    "def bfs(place):\n",
    "    \n",
    "    direction = {'up':(-1,0), 'down':(1,0), 'left':(0,-1), 'right':(0,1)}\n",
    "\n",
    "    start = [ [i,j] for i in range(5) for j in range(5) if place[i][j] == \"P\"]\n",
    "    for s in start:\n",
    "        visited = [[0]*5 for i in range(5)]\n",
    "        visited[s[0]][s[1]] = 1\n",
    "        distance = [[0]*5 for i in range(5)]\n",
    "        Q = deque([s])\n",
    "        \n",
    "        while Q:\n",
    "            r,c = Q.popleft()\n",
    "            for v in direction.values():\n",
    "                n_r = r + v[0]\n",
    "                n_c = c + v[1]\n",
    "                \n",
    "                if 0<=n_r<5 and 0<=n_c<5 and visited[n_r][n_c]==0:\n",
    "                    if place[n_r][n_c] == \"O\":\n",
    "                        Q.append([n_r, n_c])\n",
    "                        visited[n_r][n_c] = 1\n",
    "                        distance[n_r][n_c] = distance[r][c] + 1\n",
    "\n",
    "                    if place[n_r][n_c] == \"P\" and distance[r][c] <= 1:    \n",
    "                        return 0\n",
    "\n",
    "    return 1\n",
    "\n",
    "def solution(places):\n",
    "    result = []\n",
    "    for place in places:\n",
    "        result.append(bfs(place))\n",
    "\n",
    "    return result\n",
    "\n",
    "places = [[\"POOOP\", \"OXXOX\", \"OPXPX\", \"OOXOX\", \"POXXP\"], [\"POOPX\", \"OXPXP\", \"PXXXO\", \"OXXXO\", \"OOOPP\"], [\"PXOPX\", \"OXOXP\", \"OXPOX\", \"OXXOP\", \"PXPOX\"], [\"OOOXX\", \"XOOOX\", \"OOOXX\", \"OXOOX\", \"OOOOO\"], [\"PXPXP\", \"XPXPX\", \"PXPXP\", \"XPXPX\", \"PXPXP\"]]\n",
    "solution(places)\n",
    "# place"
   ]
  },
  {
   "cell_type": "markdown",
   "metadata": {},
   "source": [
    "수식 최대화"
   ]
  },
  {
   "cell_type": "code",
   "execution_count": 84,
   "metadata": {},
   "outputs": [
    {
     "data": {
      "text/plain": [
       "299"
      ]
     },
     "execution_count": 84,
     "metadata": {},
     "output_type": "execute_result"
    }
   ],
   "source": [
    "import re\n",
    "from itertools import permutations\n",
    "\n",
    "def solution(expression):\n",
    "    oper = set(re.findall(\"[-+*]\", expression))\n",
    "    res = []\n",
    "    for op in permutations(oper, len(oper)):\n",
    "        exp = re.split(\"([-+*])\", expression)\n",
    "        for o in op:\n",
    "            while o in exp:\n",
    "                idx = exp.index(o)\n",
    "                exp = exp[:idx-1] + [str(eval(''.join(exp[idx-1:idx+2])))] + exp[idx+2:]\n",
    "        res.append(abs(int(exp[0])))\n",
    "\n",
    "    return max(res)\n",
    "    \n",
    "expression = \"100-200*300-500+20\"\n",
    "expression = \"50*6-3+2\"\n",
    "solution(expression)"
   ]
  },
  {
   "cell_type": "code",
   "execution_count": 83,
   "metadata": {},
   "outputs": [
    {
     "data": {
      "text/plain": [
       "299"
      ]
     },
     "execution_count": 83,
     "metadata": {},
     "output_type": "execute_result"
    }
   ],
   "source": [
    "def solution(expression):\n",
    "    operations = [('+', '-', '*'),('+', '*', '-'),('-', '+', '*'),('-', '*', '+'),('*', '+', '-'),('*', '-', '+')]\n",
    "    answer = []\n",
    "    for op in operations:\n",
    "        a = op[0]\n",
    "        b = op[1]\n",
    "        temp_list = []\n",
    "        for e in expression.split(a):\n",
    "            \n",
    "            temp = [f\"({i})\" for i in e.split(b)]\n",
    "            temp_list.append(f'({b.join(temp)})')\n",
    "        answer.append(abs(eval(a.join(temp_list))))\n",
    "    return max(answer)\n",
    "expression = \"50*6-3+2\"\n",
    "solution(expression)"
   ]
  },
  {
   "cell_type": "markdown",
   "metadata": {},
   "source": [
    "튜플"
   ]
  },
  {
   "cell_type": "code",
   "execution_count": 128,
   "metadata": {},
   "outputs": [
    {
     "data": {
      "text/plain": [
       "[2, 1, 3, 4]"
      ]
     },
     "execution_count": 128,
     "metadata": {},
     "output_type": "execute_result"
    }
   ],
   "source": [
    "import re\n",
    "def solution(s):\n",
    "    res = []\n",
    "    s = re.split(\"({[0-9,]+})\", s)[1:-1]\n",
    "    s = sorted(s, key= lambda x:len(x))\n",
    "    print\n",
    "\n",
    "    for ss in s:\n",
    "        if ss == ',':\n",
    "            continue\n",
    "    \n",
    "        for cand in re.split(\",\",ss[1:-1]):\n",
    "            if int(cand) not in res:\n",
    "                res.append(int(cand))\n",
    "    \n",
    "    return res\n",
    "s, r=\"{{1,2,3},{2,1},{1,2,4,3},{2}}\",[2, 1, 3, 4]\n",
    "solution(s)\n"
   ]
  },
  {
   "cell_type": "code",
   "execution_count": 121,
   "metadata": {},
   "outputs": [
    {
     "name": "stdout",
     "output_type": "stream",
     "text": [
      "Counter({'2': 4, '1': 3, '3': 2, '4': 1})\n"
     ]
    },
    {
     "data": {
      "text/plain": [
       "[2, 1, 3, 4]"
      ]
     },
     "execution_count": 121,
     "metadata": {},
     "output_type": "execute_result"
    }
   ],
   "source": [
    "import re\n",
    "from collections import Counter\n",
    "def solution(s):\n",
    "\n",
    "    s = Counter(re.findall('\\d+', s))\n",
    "    return list(map(int, [k for k, v in sorted(s.items(), key=lambda x: x[1], reverse=True)]))\n",
    "s, r=\"{{2},{2,1},{2,1,3},{2,1,3,4}}\", [2, 1, 3, 4]\n",
    "solution(s)"
   ]
  },
  {
   "cell_type": "code",
   "execution_count": 140,
   "metadata": {},
   "outputs": [
    {
     "data": {
      "text/plain": [
       "{2: 0, 1: 0, 3: 0, 4: 0}"
      ]
     },
     "execution_count": 140,
     "metadata": {},
     "output_type": "execute_result"
    }
   ],
   "source": [
    "def solution(s):\n",
    "    s = eval(s.replace(\"{\", \"[\").replace(\"}\", \"]\"))\n",
    "    answer = {num:0 for k in sorted(s, key=lambda x: len(x)) for num in k}\n",
    "    return answer\n",
    "\n",
    "s, r=\"{{1,2,3},{2,1},{1,2,4,3},{2}}\",[2, 1, 3, 4]\n",
    "solution(s)"
   ]
  },
  {
   "cell_type": "markdown",
   "metadata": {},
   "source": [
    "빛 경 싸"
   ]
  },
  {
   "cell_type": "code",
   "execution_count": 9,
   "metadata": {},
   "outputs": [
    {
     "name": "stdout",
     "output_type": "stream",
     "text": [
      "2 2\n"
     ]
    }
   ],
   "source": [
    "def solution(grid):\n",
    "    direction = [(1,0), (-1,0), (0,1), (0,-1)]\n",
    "    states = {\"R\":{0:3, 1:2, 2:0, 3:1}, \"L\":{0:2, 1:3, 2:1, 3:0}}\n",
    "    r, c = len(grid), len(grid[0])\n",
    "    check = [[[False]*4 for _ in range(c)] for _ in range(r)]\n",
    "    answer = []\n",
    "    for i in range(r):\n",
    "        for j in range(c):\n",
    "            for d in range(4):\n",
    "                if not check[i][j][d]:\n",
    "                    row, col, direct = i, j, d\n",
    "                    cnt = 0\n",
    "                    while True:\n",
    "                        check[row][col][direct] = True\n",
    "                        cnt += 1\n",
    "                        if grid[row][col] == \"L\":\n",
    "                            direct = states[\"L\"][direct]\n",
    "                        \n",
    "                        elif grid[row][col] == \"R\":\n",
    "                            direct = states[\"R\"][direct]\n",
    "                            \n",
    "                        row, col = (row + direction[direct][0]) % r, (col + direction[direct][1]) % c\n",
    "\n",
    "                        if check[row][col][direct]:\n",
    "                            if (row, col, direct) == (i,j,d):\n",
    "                                answer.append(cnt)\n",
    "                            break\n",
    "    answer.sort()\n",
    "    return answer\n",
    "\n",
    "grid_1 = [\"S\"]\n",
    "print(solution(grid_1))"
   ]
  },
  {
   "cell_type": "code",
   "execution_count": null,
   "metadata": {},
   "outputs": [],
   "source": [
    "dx = [1,0,-1,0]\n",
    "dy = [0,-1,0,1]\n",
    "\n",
    "def solution(grid):\n",
    "    global visited,n,m\n",
    "    n = len(grid)\n",
    "    m = len(grid[0])\n",
    "    answer = []\n",
    "    visited = [[[False]*4 for _ in range(m)] for _ in range(n)]\n",
    "    for sx in range(n):\n",
    "        for sy in range(m):\n",
    "            for d in range(4):\n",
    "                if not visited[sx][sy][d]:\n",
    "                    rst = simul(sx,sy,d,grid)\n",
    "                    if rst != 0:\n",
    "                        answer.append(rst)\n",
    "    answer.sort()\n",
    "    return answer\n",
    "\n",
    "def simul(sx,sy,sd,grid):\n",
    "    global visited\n",
    "    x,y,d=sx,sy,sd\n",
    "    cnt = 0\n",
    "    visited[sx][sy][sd] = True\n",
    "    while True:\n",
    "        x = (x + dx[d]) % n\n",
    "        y = (y + dy[d]) % m\n",
    "        cnt += 1\n",
    "\n",
    "        if grid[x][y] == 'R':\n",
    "            d = (d+1)%4\n",
    "        elif grid[x][y] == 'L':\n",
    "            d = (d-1)%4\n",
    "        if visited[x][y][d]:\n",
    "            if (x,y,d) == (sx,sy,sd):\n",
    "                return cnt\n",
    "            else:\n",
    "                return 0\n",
    "        visited[x][y][d] = True"
   ]
  },
  {
   "cell_type": "code",
   "execution_count": 33,
   "metadata": {},
   "outputs": [
    {
     "data": {
      "text/plain": [
       "[1, 1, 1, 1, 2, 2]"
      ]
     },
     "execution_count": 33,
     "metadata": {},
     "output_type": "execute_result"
    }
   ],
   "source": [
    "\n",
    "def solution(grid):\n",
    "    direction = [(1,0), (0,-1), (0,1), (0,-1)]\n",
    "    states = {'R':{0:3, 1:2, 2:0, 3:1}, 'L':{0:2, 1:3, 2:1, 3:0}}\n",
    "    r, c = len(grid), len(grid[0])\n",
    "    check = [[[False]*4 for _ in range(c)] for _ in range(r)]\n",
    "    answer = []\n",
    "    for i in range(r):\n",
    "        for j in range(c):\n",
    "            for d in range(4):\n",
    "                if not check[i][j][d]:\n",
    "                    row, col, direct = i, j, d\n",
    "                    cnt = 0\n",
    "                    check[i][j][d] = True\n",
    "                    while True:\n",
    "                        cnt += 1\n",
    "                        if grid[row][col] == \"L\":\n",
    "                            direct = states[\"L\"][direct]\n",
    "                            row, col = (row + direction[direct][0]) % r, (col + direction[direct][1]) % c\n",
    "                        \n",
    "                        elif grid[row][col] == \"R\":\n",
    "                            direct = states[\"R\"][direct]\n",
    "                            row, col = (row + direction[direct][0]) % r, (col + direction[direct][1]) % c\n",
    "                        \n",
    "                        if check[row][col][direct]:\n",
    "                            if (row, col, direct) == (i,j,d):\n",
    "                                answer.append(cnt)\n",
    "                                break\n",
    "\n",
    "                            else:\n",
    "                                break\n",
    "                        check[row][col][direct] = True\n",
    "    \n",
    "    return answer\n",
    "\n",
    "grid_1 = [\"SL\",\"LR\"]\n",
    "solution(grid_1)"
   ]
  }
 ],
 "metadata": {
  "interpreter": {
   "hash": "40d3a090f54c6569ab1632332b64b2c03c39dcf918b08424e98f38b5ae0af88f"
  },
  "kernelspec": {
   "display_name": "Python 3.8.8 ('base')",
   "language": "python",
   "name": "python3"
  },
  "language_info": {
   "codemirror_mode": {
    "name": "ipython",
    "version": 3
   },
   "file_extension": ".py",
   "mimetype": "text/x-python",
   "name": "python",
   "nbconvert_exporter": "python",
   "pygments_lexer": "ipython3",
   "version": "3.8.8"
  },
  "orig_nbformat": 4
 },
 "nbformat": 4,
 "nbformat_minor": 2
}

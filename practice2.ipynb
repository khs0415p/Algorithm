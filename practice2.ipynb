{
 "cells": [
  {
   "cell_type": "markdown",
   "metadata": {},
   "source": [
    "괄호 변환"
   ]
  },
  {
   "cell_type": "code",
   "execution_count": 1,
   "metadata": {},
   "outputs": [
    {
     "name": "stdout",
     "output_type": "stream",
     "text": [
      "(()())()\n",
      "()\n"
     ]
    }
   ],
   "source": [
    "def solution(p):\n",
    "    check_dict = {\"(\":\")\",\")\":\"(\"}\n",
    "\n",
    "    if not p:\n",
    "        return p\n",
    "\n",
    "    u, v = '', ''\n",
    "    l_cnt, r_cnt = 0, 0\n",
    "\n",
    "    for idx,bracket in enumerate(p):\n",
    "        u += bracket\n",
    "\n",
    "        if bracket == \"(\":\n",
    "            l_cnt += 1\n",
    "\n",
    "        else:\n",
    "            r_cnt += 1\n",
    "\n",
    "        if l_cnt == r_cnt:\n",
    "            v = p[idx+1:]\n",
    "            break\n",
    "\n",
    "    def check(brackets):\n",
    "        stack = [brackets[0]]\n",
    "        if stack[-1] == \")\":\n",
    "            return False\n",
    "\n",
    "        for b in brackets[1:]:\n",
    "            if stack[-1] != b:\n",
    "                stack.pop()\n",
    "\n",
    "            else:\n",
    "                stack.append(b)\n",
    "        return False if stack else True\n",
    "    \n",
    "        \n",
    "    if check(u):\n",
    "        return u + solution(v)\n",
    "\n",
    "    else:\n",
    "        return \"(\" + solution(v) + \")\" + \"\".join([check_dict[i]for i in u[1:-1]])\n",
    "\n",
    "p = [\"(()())(\", \")(\"]\n",
    "for i in p:\n",
    "    print(solution(i))"
   ]
  },
  {
   "cell_type": "markdown",
   "metadata": {},
   "source": [
    "뉴스 클러스터링"
   ]
  },
  {
   "cell_type": "code",
   "execution_count": null,
   "metadata": {},
   "outputs": [],
   "source": [
    "def solution(str1, str2):\n",
    "    from collections import Counter\n",
    "    import re\n",
    "    str1_lst = [str1[i:i+2].upper() for i in range(len(str1)-1) if len(re.sub(\"[^a-zA-Z]\",\"\",str1[i:i+2]))==2]\n",
    "    str2_lst = [str2[i:i+2].upper() for i in range(len(str2)-1) if len(re.sub(\"[^a-zA-Z]\",\"\",str2[i:i+2]))==2]\n",
    "    \n",
    "    if len(str1_lst+str2_lst) == 0:\n",
    "        return 65536\n",
    "\n",
    "    str1_count = Counter(str1_lst)\n",
    "    str2_count = Counter(str2_lst)\n",
    "\n",
    "    # Counter도 set처럼 집합처럼 이용할 수 있음.\n",
    "    # uni = len(list((Counter1 & Counter2).elements())) ---> max\n",
    "    # inter = len(list((Counter1 | Counter2).elements())) ---> min\n",
    "\n",
    "    uni = 0\n",
    "    inter = 0\n",
    "    for k,v in str1_count.items():\n",
    "        uni += max(v, str2_count.get(k, 0))\n",
    "        if str2_count.get(k,None):\n",
    "            inter += min(v, str2_count.get(k))\n",
    "            str2_count.pop(k)\n",
    "\n",
    "    for k,v in str2_count.items():\n",
    "        uni += v\n",
    "\n",
    "    return int(inter/uni* 65536)"
   ]
  },
  {
   "cell_type": "code",
   "execution_count": null,
   "metadata": {},
   "outputs": [],
   "source": [
    "def solution(str1, str2):\n",
    "    answer = 0\n",
    "    str1 = [str1[i:i+2].upper() for i in range(len(str1)-1) if str1[i:i+2].isalpha() ]\n",
    "    \n",
    "    str2 = [str2[i:i+2].upper() for i in range(len(str2)-1) if str2[i:i+2].isalpha()]\n",
    "    \n",
    "    if len(set(str1)|set(str2))==0:return 65536\n",
    "    \n",
    "    pa=0\n",
    "    ch=0\n",
    "    \n",
    "    for j in set(str1) & set(str2):\n",
    "        m=min(str1.count(j),str2.count(j))\n",
    "        \n",
    "        ch += m\n",
    "        \n",
    "    for j in set(str1)|set(str2):\n",
    "        M=max(str1.count(j),str2.count(j))\n",
    "        pa += M\n",
    "    \n",
    "    return int(ch/pa*65536)\n"
   ]
  },
  {
   "cell_type": "markdown",
   "metadata": {},
   "source": [
    "거리두기 확인하기"
   ]
  }
 ],
 "metadata": {
  "interpreter": {
   "hash": "40d3a090f54c6569ab1632332b64b2c03c39dcf918b08424e98f38b5ae0af88f"
  },
  "kernelspec": {
   "display_name": "Python 3.8.8 ('base')",
   "language": "python",
   "name": "python3"
  },
  "language_info": {
   "codemirror_mode": {
    "name": "ipython",
    "version": 3
   },
   "file_extension": ".py",
   "mimetype": "text/x-python",
   "name": "python",
   "nbconvert_exporter": "python",
   "pygments_lexer": "ipython3",
   "version": "3.8.8"
  },
  "orig_nbformat": 4
 },
 "nbformat": 4,
 "nbformat_minor": 2
}

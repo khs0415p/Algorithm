{
 "cells": [
  {
   "cell_type": "markdown",
   "metadata": {},
   "source": [
    "n개의 노드가 있는 그래프  \n",
    "각 노드는 1부터 n까지 번호  \n",
    "1번 노드에서 가장 멀리 떨어진 노드의 갯수를 구하기  \n",
    "가장 멀리 떨어진 노드란 최단경로로 이동했을 때 간선의 개수가 가장 많은 노드들을 의미  \n",
    "\n",
    "노드의 개수 n  \n",
    "간선에 대한 정보가 담긴 2차원 배열 vertex가 매개변수  \n",
    "1번 노드로부터 가장 멀리 떨어진 노드가 몇 개인지를 return  \n",
    "\n",
    "노드의 개수 n은 2 이상 20,000 이하  \n",
    "간선은 양방향이며 총 1개 이상 50,000개 이하의 간선  \n",
    "vertex 배열 각 행 [a, b]는 a번 노드와 b번 노드 사이에 간선이 있다는 의미  "
   ]
  },
  {
   "cell_type": "code",
   "execution_count": 19,
   "metadata": {},
   "outputs": [
    {
     "data": {
      "text/plain": [
       "3"
      ]
     },
     "execution_count": 19,
     "metadata": {},
     "output_type": "execute_result"
    }
   ],
   "source": [
    "# n\tvertex\treturn\n",
    "# 6\t[[3, 6], [4, 3], [3, 2], [1, 3], [1, 2], [2, 4], [5, 2]]\t3\n",
    "\n",
    "from collections import defaultdict, deque\n",
    "\n",
    "\n",
    "def solution(n, vertex):\n",
    "    graph = defaultdict(list)\n",
    "    for u, v in vertex:\n",
    "        graph[u].append(v)\n",
    "        graph[v].append(u)    \n",
    "\n",
    "    check_list = [0 for _ in range(n)]\n",
    "\n",
    "    queue = deque([1]) # 1 \n",
    "    while queue:\n",
    "        num = queue.popleft() # 2\n",
    "        for nxt in graph[num]:  # 3         \n",
    "            if not check_list[nxt-1]: \n",
    "                check_list[nxt-1] = check_list[num-1] + 1 # list[3] = list[2] + 1\n",
    "                queue.append(nxt)\n",
    "\n",
    "    \n",
    "    return check_list[1:].count(max(check_list[1:]))\n",
    "\n",
    "n = 6\n",
    "vertex = [[3,6], [4,3], [3,2], [1,3], [1,2], [2,4], [5,2]]\n",
    "\n",
    "solution(n, vertex)\n",
    "\n",
    "# 4,5,6(거리 2) -> 3개"
   ]
  },
  {
   "cell_type": "markdown",
   "metadata": {},
   "source": [
    "n명의 권투선수가 권투 대회에 참여  \n",
    "각각 1번부터 n번까지 번호  \n",
    "권투 경기는 1대1 방식  \n",
    "만약 A 선수가 B 선수보다 실력이 좋다면 A 선수는 B 선수를 항상 이김  \n",
    "심판은 주어진 경기 결과를 가지고 선수들의 순위를 매김  \n",
    "몇몇 경기 결과를 분실하여 정확하게 순위를 매길 수 없음  \n",
    "  \n",
    "선수의 수 n, 경기 결과를 담은 2차원 배열 results가 매개변수로 주어질 때 정확하게 순위를 매길 수 있는 선수의 수를 return  \n",
    "  \n",
    "선수의 수는 1명 이상 100명 이하  \n",
    "경기 결과는 1개 이상 4,500개 이하  \n",
    "results 배열 각 행 [A, B]는 A 선수가 B 선수를 이겼다는 의미  \n",
    "모든 경기 결과에는 모순이 없습니다.  \n",
    "  \n",
    "입출력 예  \n",
    "n\tresults\treturn  \n",
    "5\t[[4, 3], [4, 2], [3, 2], [1, 2], [2, 5]]\t2  \n",
    "2번 선수는 [1, 3, 4] 선수에게 패배했고 5번 선수에게 승리했기 때문에 4위  \n",
    "5번 선수는 4위인 2번 선수에게 패배했기 때문에 5위"
   ]
  },
  {
   "cell_type": "code",
   "execution_count": 92,
   "metadata": {},
   "outputs": [
    {
     "name": "stdout",
     "output_type": "stream",
     "text": [
      "defaultdict(<class 'set'>, {3: {4}, 2: {1, 3, 4}, 5: {1, 2, 3, 4}, 1: set(), 4: set()})\n",
      "defaultdict(<class 'set'>, {4: {2, 3, 5}, 3: {2, 5}, 1: {2, 5}, 2: {5}, 5: set()})\n"
     ]
    },
    {
     "data": {
      "text/plain": [
       "2"
      ]
     },
     "execution_count": 92,
     "metadata": {},
     "output_type": "execute_result"
    }
   ],
   "source": [
    "# n\tresults\treturn\n",
    "# 5\t[[4, 3], [4, 2], [3, 2], [1, 2], [2, 5]]\t2\n",
    "\n",
    "\n",
    "from collections import defaultdict, deque\n",
    "\n",
    "def solution(n, results):\n",
    "    \n",
    "    vic_table = defaultdict(set)\n",
    "    def_table = defaultdict(set)\n",
    "\n",
    "    for w,l in results:\n",
    "        vic_table[l].add(w)\n",
    "        def_table[w].add(l)\n",
    "\n",
    "    for i in range(1, n+1):\n",
    "        for win in vic_table[i]:\n",
    "            def_table[win].update(def_table[i])\n",
    "\n",
    "        for defeat in def_table[i]:\n",
    "            vic_table[defeat].update(vic_table[i])\n",
    "\n",
    "    answer = 0\n",
    "    \n",
    "    for i in range(1, n+1):\n",
    "        if (len(vic_table[i]) + len(def_table[i])) == n-1:\n",
    "            answer += 1\n",
    "\n",
    "    return answer\n",
    "\n",
    "\n",
    "\"\"\"\n",
    "1,2,3\n",
    "4\n",
    "5\n",
    "\n",
    "vic[4] = 1,2,3 def[1] \n",
    "def[4] = 5 \n",
    "vic[5] = 4\n",
    "\n",
    "\"\"\"\n",
    "n = 5\n",
    "results = [[4, 3], [4, 2], [3, 2], [1, 2], [2, 5]]\n",
    "solution(n, results)"
   ]
  },
  {
   "cell_type": "markdown",
   "metadata": {},
   "source": [
    "방의 개수  \n",
    "  \n",
    "- 갔던 방향으로 다시 되돌아오는 경우\n",
    "- 엑스자 그리기로 방이 생기는 경우"
   ]
  },
  {
   "cell_type": "code",
   "execution_count": null,
   "metadata": {},
   "outputs": [],
   "source": [
    "def solution(arrows):\n",
    "    visited = set()\n",
    "    visited.add((0,0))\n",
    "    visited_dir = set()\n",
    "    move = {0:(-1,0), 1:(-1,1), 2:(0,1), 3:(1,1), 4:(1,0), 5:(1,-1), 6:(0,-1),7:(-1,-1)}\n",
    "\n",
    "    dot = (0,0)\n",
    "    answer = 0\n",
    "    for arrow in arrows:\n",
    "        for _ in range(2):\n",
    "            nxt_dot = (dot[0] + move[arrow][0], dot[1] + move[arrow][1])\n",
    "            \n",
    "            if nxt_dot in visited and (dot, nxt_dot) not in visited_dir:\n",
    "                answer += 1\n",
    "            visited.add(nxt_dot)\n",
    "            visited_dir.add((dot, nxt_dot))\n",
    "            visited_dir.add((nxt_dot, dot))\n",
    "            dot = nxt_dot\n",
    "\n",
    "    return answer"
   ]
  }
 ],
 "metadata": {
  "interpreter": {
   "hash": "b0fa6594d8f4cbf19f97940f81e996739fb7646882a419484c72d19e05852a7e"
  },
  "kernelspec": {
   "display_name": "Python 3.9.10 64-bit",
   "language": "python",
   "name": "python3"
  },
  "language_info": {
   "codemirror_mode": {
    "name": "ipython",
    "version": 3
   },
   "file_extension": ".py",
   "mimetype": "text/x-python",
   "name": "python",
   "nbconvert_exporter": "python",
   "pygments_lexer": "ipython3",
   "version": "3.9.10"
  },
  "orig_nbformat": 4
 },
 "nbformat": 4,
 "nbformat_minor": 2
}

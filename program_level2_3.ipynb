{
 "cells": [
  {
   "cell_type": "markdown",
   "metadata": {},
   "source": [
    "크루스칼 알고리즘 (최소신장트리 탐색)"
   ]
  },
  {
   "cell_type": "code",
   "execution_count": null,
   "metadata": {},
   "outputs": [],
   "source": [
    "graph = [(1,2,13),(1,3,5),(2,4,9),(3,4,15),(3,5,3),(4,5,1),(4,6,7),(5,6,2)]\n",
    "graph.sort(key=lambda x:x[2])\n",
    "\n",
    "v_set = set()\n",
    "for g in graph:\n",
    "    v_set.update([g[0],g[1]])\n",
    "\n",
    "vertex_length = len(v_set)\n",
    "# 사이클 생성여부 (union , find)\n",
    "parent = [0] + [ i for i in range(1, vertex_length+1)]\n",
    "\n",
    "def find(node):\n",
    "    if node != parent[node]:\n",
    "        parent[node] = find(parent[node])\n",
    "\n",
    "    return parent[node]\n",
    "\n",
    "def union(a, b):\n",
    "    a = find(a)\n",
    "    b = find(b)\n",
    "\n",
    "    if a < b:\n",
    "        parent[b] = a\n",
    "\n",
    "    else:\n",
    "        parent[a] = b\n",
    "\n",
    "tree_edge = 0\n",
    "total_cost = 0\n",
    "mst = []\n",
    "# 신장트리의 간선개수 = V - 1이 유지됨\n",
    "while True:\n",
    "    if tree_edge == vertex_length-1:\n",
    "        break\n",
    "    \n",
    "    u, v, t = graph.pop(0)\n",
    "    if find(u) != find(v):\n",
    "        union(u,v)\n",
    "        tree_edge += 1\n",
    "        total_cost += t\n",
    "        mst.append((u,v))\n",
    "\n",
    "print('최소 신장 트리', mst)\n",
    "print('최소신장트리 가중치', total_cost)"
   ]
  },
  {
   "cell_type": "markdown",
   "metadata": {},
   "source": [
    "다익스트라"
   ]
  },
  {
   "cell_type": "code",
   "execution_count": 2,
   "metadata": {},
   "outputs": [],
   "source": [
    "summits = [5,7]\n",
    "start = [1,2]\n",
    "inputs = [(1,3,4), (2,8,1), (3,8,4), (3,4,2), (4,5,7), (5,7,8), (5,8,6), (8,6,2)]\n",
    "ans = ['5', '1']"
   ]
  },
  {
   "cell_type": "code",
   "execution_count": 3,
   "metadata": {},
   "outputs": [
    {
     "data": {
      "text/plain": [
       "defaultdict(dict,\n",
       "            {1: {3: 4},\n",
       "             3: {1: 4, 8: 4, 4: 2},\n",
       "             2: {8: 1},\n",
       "             8: {2: 1, 3: 4, 5: 6, 6: 2},\n",
       "             4: {3: 2, 5: 7},\n",
       "             5: {4: 7, 7: 8, 8: 6},\n",
       "             7: {5: 8},\n",
       "             6: {8: 2}})"
      ]
     },
     "execution_count": 3,
     "metadata": {},
     "output_type": "execute_result"
    }
   ],
   "source": [
    "from collections import defaultdict\n",
    "graph = defaultdict(dict)\n",
    "\n",
    "for input in inputs:\n",
    "    graph[input[0]].update({input[1]:input[2]})\n",
    "    graph[input[1]].update({input[0]:input[2]})\n",
    "\n",
    "graph"
   ]
  },
  {
   "cell_type": "code",
   "execution_count": null,
   "metadata": {},
   "outputs": [],
   "source": [
    "def dijkstra(graph, starts, end):\n",
    "    distances = {n:float('inf') for n in end}\n",
    "    answers = []\n",
    "    for start in starts:\n",
    "        summit = -1\n",
    "        intensity = 0\n",
    "        queue = []\n",
    "        queue.append([0, start])\n",
    "        while queue:\n",
    "            cur_dis, cur_loc = queue.pop(0)\n",
    "            for post_loc, post_dis in graph[cur_loc].items():\n",
    "                intensity = cur_dis if cur_dis < post_loc else post_loc\n",
    "                if post_loc in end:\n",
    "                    if summit:\n",
    "                        continue\n",
    "                    else:\n",
    "                        summit = post_loc\n",
    "\n",
    "                if post_loc in starts:\n",
    "                    answers.append([summit, intensity])\n",
    "\n",
    "                queue.append([post_dis, post_loc])\n",
    "    return answers\n",
    "\n",
    "dijkstra(graph, start, summits)"
   ]
  }
 ],
 "metadata": {
  "interpreter": {
   "hash": "b0fa6594d8f4cbf19f97940f81e996739fb7646882a419484c72d19e05852a7e"
  },
  "kernelspec": {
   "display_name": "Python 3.9.10 64-bit",
   "language": "python",
   "name": "python3"
  },
  "language_info": {
   "codemirror_mode": {
    "name": "ipython",
    "version": 3
   },
   "file_extension": ".py",
   "mimetype": "text/x-python",
   "name": "python",
   "nbconvert_exporter": "python",
   "pygments_lexer": "ipython3",
   "version": "3.9.10"
  },
  "orig_nbformat": 4
 },
 "nbformat": 4,
 "nbformat_minor": 2
}

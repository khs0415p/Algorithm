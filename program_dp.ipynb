{
 "cells": [
  {
   "cell_type": "code",
   "execution_count": null,
   "metadata": {},
   "outputs": [],
   "source": [
    "# DP\n",
    "# 1. 큰 문제를 작은 문제로 분할할 수 있는가\n",
    "# 2. 작은 문제로 큰 문제를 해결할 수 있는가\n",
    "# 3. 작은 문제들이 중복되어 나타나는가\n",
    "\n",
    "# 대표문제\n",
    "# LCS (longest common sequence)\n",
    "# 피보나치"
   ]
  },
  {
   "cell_type": "code",
   "execution_count": 46,
   "metadata": {},
   "outputs": [
    {
     "data": {
      "text/plain": [
       "3"
      ]
     },
     "execution_count": 46,
     "metadata": {},
     "output_type": "execute_result"
    }
   ],
   "source": [
    "# n으로 표현\n",
    "# 9개 이상 사용시 -1 리턴\n",
    "# n을 사용해서 number를 만들 때, n의 사용회수의 최소값\n",
    "\n",
    "def solution(N, number):\n",
    "\n",
    "    pos = [set([int(str(N)*i)]) for i in range(1,9)]\n",
    "    \n",
    "    for i in range(8):\n",
    "        for j in range(i):\n",
    "            for op1 in pos[j]:\n",
    "                for op2 in pos[i-j-1]:\n",
    "                    pos[i].add(op1 * op2)\n",
    "                    pos[i].add(op1 - op2)\n",
    "                    pos[i].add(op1 + op2)\n",
    "                    if op2 != 0:\n",
    "                        pos[i].add(op1 // op2)\n",
    "        if number in pos[i] :\n",
    "            return i+1\n",
    "    return -1\n",
    "\n",
    "N = 3\n",
    "number = 12\n",
    "\n",
    "solution(N, number)\n"
   ]
  }
 ],
 "metadata": {
  "interpreter": {
   "hash": "40d3a090f54c6569ab1632332b64b2c03c39dcf918b08424e98f38b5ae0af88f"
  },
  "kernelspec": {
   "display_name": "Python 3.8.8 ('base')",
   "language": "python",
   "name": "python3"
  },
  "language_info": {
   "codemirror_mode": {
    "name": "ipython",
    "version": 3
   },
   "file_extension": ".py",
   "mimetype": "text/x-python",
   "name": "python",
   "nbconvert_exporter": "python",
   "pygments_lexer": "ipython3",
   "version": "3.8.8"
  },
  "orig_nbformat": 4
 },
 "nbformat": 4,
 "nbformat_minor": 2
}

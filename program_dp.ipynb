{
 "cells": [
  {
   "cell_type": "code",
   "execution_count": null,
   "metadata": {},
   "outputs": [],
   "source": [
    "# DP\n",
    "# 1. 큰 문제를 작은 문제로 분할할 수 있는가\n",
    "# 2. 작은 문제로 큰 문제를 해결할 수 있는가\n",
    "# 3. 작은 문제들이 중복되어 나타나는가\n",
    "\n",
    "# 대표문제\n",
    "# LCS (longest common sequence)\n",
    "# 피보나치"
   ]
  },
  {
   "cell_type": "code",
   "execution_count": 46,
   "metadata": {},
   "outputs": [
    {
     "data": {
      "text/plain": [
       "3"
      ]
     },
     "execution_count": 46,
     "metadata": {},
     "output_type": "execute_result"
    }
   ],
   "source": [
    "# n으로 표현\n",
    "# 9개 이상 사용시 -1 리턴\n",
    "# n을 사용해서 number를 만들 때, n의 사용회수의 최소값\n",
    "\n",
    "def solution(N, number):\n",
    "\n",
    "    pos = [set([int(str(N)*i)]) for i in range(1,9)]\n",
    "    \n",
    "    for i in range(8):\n",
    "        for j in range(i):\n",
    "            for op1 in pos[j]:\n",
    "                for op2 in pos[i-j-1]:\n",
    "                    pos[i].add(op1 * op2)\n",
    "                    pos[i].add(op1 - op2)\n",
    "                    pos[i].add(op1 + op2)\n",
    "                    if op2 != 0:\n",
    "                        pos[i].add(op1 // op2)\n",
    "        if number in pos[i] :\n",
    "            return i+1\n",
    "    return -1\n",
    "\n",
    "N = 3\n",
    "number = 12\n",
    "\n",
    "solution(N, number)\n"
   ]
  },
  {
   "cell_type": "code",
   "execution_count": null,
   "metadata": {},
   "outputs": [],
   "source": [
    "#     7\n",
    "#    3 8\n",
    "#   8 1 0\n",
    "#  2 7 4 4\n",
    "# 4 5 2 6 5\n",
    "\n",
    "# 삼각형의 정보가 담긴 배열 triangle이 매개변수로 주어질 때, 거쳐간 숫자의 최댓값을 return 하도록 solution 함수를 완성하세요.\n",
    "# triangle\tresult\n",
    "# [[7], [3, 8], [8, 1, 0], [2, 7, 4, 4], [4, 5, 2, 6, 5]]\t30"
   ]
  },
  {
   "cell_type": "code",
   "execution_count": 96,
   "metadata": {},
   "outputs": [
    {
     "data": {
      "text/plain": [
       "30"
      ]
     },
     "execution_count": 96,
     "metadata": {},
     "output_type": "execute_result"
    }
   ],
   "source": [
    "def solution(triangle):\n",
    "    for i in range(1, len(triangle)):\n",
    "        for j in range(len(triangle[i])):\n",
    "            if j == 0:\n",
    "                triangle[i][j] = triangle[i-1][j]\n",
    "\n",
    "            elif j == len(triangle[i])-1:\n",
    "                triangle[i][j] = triangle[i-1][j-1]\n",
    "\n",
    "            else:\n",
    "                triangle[i][j] = max(triangle[i-1][j-1], triangle[i-1][j])\n",
    "\n",
    "    return max(triangle[-1])\n",
    "\n",
    "\n",
    "def exception_solution(triangle):\n",
    "    triangle = [[0]+ line +[0] for line in triangle]\n",
    "\n",
    "    for i in range(1, len(triangle)):\n",
    "        for j in range(1, i+2):\n",
    "            triangle[i][j] += max(triangle[i-1][j], triangle[i-1][j-1])\n",
    "\n",
    "    return max(triangle[-1])\n",
    "\n",
    "\n",
    "triangle = [[7], [3, 8], [8, 1, 0], [2, 7, 4, 4], [4, 5, 2, 6, 5]]\n",
    "solution(triangle)"
   ]
  },
  {
   "cell_type": "code",
   "execution_count": null,
   "metadata": {},
   "outputs": [],
   "source": [
    "# zigzag"
   ]
  },
  {
   "cell_type": "code",
   "execution_count": 33,
   "metadata": {},
   "outputs": [
    {
     "name": "stdout",
     "output_type": "stream",
     "text": [
      "[1, 0, 0, 3, 3, 3, 5, 0, 0] [1, 2, 2, 2, 4, 4, 0, 6, 6]\n",
      "[1, 2, 2, 3, 4, 4, 5, 6, 6]\n"
     ]
    }
   ],
   "source": [
    "# a = [3, -1, 2, 5, 7, 4, 5, 9, 8]\n",
    "a = [2, 5, 7, 3, 4, 6, 1, 8, 9]\n",
    "# a = [4, 3, 2, 1, 10, 6, 9, 7, 8] \n",
    "# a = [1, 2, 3, 4, 5] # 0\n",
    "\n",
    "low = [0]*len(a)\n",
    "high = [0]*len(a)\n",
    "low[0], high[0] = 1, 1\n",
    "\n",
    "for k in range(1, len(a)):\n",
    "    for j in range(k):\n",
    "        if a[j] > a[k]:\n",
    "            low[k] = max(low[k], high[j]+1)\n",
    "\n",
    "        elif a[j] < a[k]:\n",
    "            high[k] = max(high[k], low[j]+1)\n",
    "\n",
    "# 시간복잡도\n",
    "# max(max(low), max(high))\n",
    "print(low, high)\n",
    "\n",
    "answer = []\n",
    "for k in range(len(a)):\n",
    "    answer.append(max(low[k], high[k]))\n",
    "\n",
    "print(answer)\n"
   ]
  }
 ],
 "metadata": {
  "interpreter": {
   "hash": "40d3a090f54c6569ab1632332b64b2c03c39dcf918b08424e98f38b5ae0af88f"
  },
  "kernelspec": {
   "display_name": "Python 3.8.8 ('base')",
   "language": "python",
   "name": "python3"
  },
  "language_info": {
   "codemirror_mode": {
    "name": "ipython",
    "version": 3
   },
   "file_extension": ".py",
   "mimetype": "text/x-python",
   "name": "python",
   "nbconvert_exporter": "python",
   "pygments_lexer": "ipython3",
   "version": "3.8.8"
  },
  "orig_nbformat": 4
 },
 "nbformat": 4,
 "nbformat_minor": 2
}

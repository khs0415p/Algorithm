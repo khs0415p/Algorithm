{
 "cells": [
  {
   "cell_type": "markdown",
   "metadata": {},
   "source": [
    "입국심사  \n",
    "  \n",
    "n명이 입국심사를 위해 줄을 서서 기다리고 있습니다. 각 입국심사대에 있는 심사관마다 심사하는데 걸리는 시간은 다릅니다.  \n",
    "  \n",
    "처음에 모든 심사대는 비어있습니다. 한 심사대에서는 동시에 한 명만 심사를 할 수 있습니다.  \n",
    "가장 앞에 서 있는 사람은 비어 있는 심사대로 가서 심사를 받을 수 있습니다. 하지만 더 빨리 끝나는 심사대가 있으면 기다렸다가 그곳으로 가서 심사를 받을 수도 있습니다.  \n",
    "  \n",
    "모든 사람이 심사를 받는데 걸리는 시간을 최소로 하고 싶습니다.  \n",
    "  \n",
    "입국심사를 기다리는 사람 수 n, 각 심사관이 한 명을 심사하는데 걸리는 시간이 담긴 배열 times가 매개변수로 주어질 때, 모든 사람이 심사를 받는데 걸리는 시간의 최솟값을 return  \n",
    "  \n",
    "제한사항  \n",
    "입국심사를 기다리는 사람은 1명 이상 1,000,000,000명 이하입니다.  \n",
    "각 심사관이 한 명을 심사하는데 걸리는 시간은 1분 이상 1,000,000,000분 이하입니다.  \n",
    "심사관은 1명 이상 100,000명 이하입니다.  "
   ]
  },
  {
   "cell_type": "code",
   "execution_count": 1,
   "metadata": {},
   "outputs": [
    {
     "data": {
      "text/plain": [
       "28"
      ]
     },
     "execution_count": 1,
     "metadata": {},
     "output_type": "execute_result"
    }
   ],
   "source": [
    "def solution(n, times):\n",
    "    # 1 - 최악\n",
    "    left, right = 1, max(times) * n\n",
    "    while left < right:\n",
    "        middle = (left + right) // 2\n",
    "        # 중간시간 // time = 중간시간이 흘렀을떄 처리 인원수, time들의 총합이 n보다 작거나 크거나 같거나\n",
    "        person = sum([middle//time for time in times])\n",
    "        if person < n:\n",
    "            # 중간시간 부족\n",
    "            left = middle + 1\n",
    "\n",
    "        else:\n",
    "            # 시간 초과 or 같음\n",
    "            right = middle\n",
    "\n",
    "    return left\n",
    "\n",
    "# 입출력 예\n",
    "# n\ttimes\treturn\n",
    "# 6\t[7, 10]\t28\n",
    "\n",
    "n = 6\n",
    "times = [7, 10]\n",
    "solution(n, times)"
   ]
  },
  {
   "cell_type": "markdown",
   "metadata": {},
   "source": [
    "징검다리  \n",
    "  \n",
    "출발지점부터 distance만큼 떨어진 곳에 도착지점이 있습니다.  \n",
    "그리고 그사이에는 바위들이 놓여있습니다. 바위 중 몇 개를 제거하려고 합니다.  \n",
    "예를 들어, 도착지점이 25만큼 떨어져 있고, 바위가 [2, 14, 11, 21, 17] 지점에 놓여있을 때 바위 2개를 제거하면 출발지점, 도착지점, 바위 간의 거리가 아래와 같습니다.  \n",
    "  \n",
    "제거한 바위의 위치\t각 바위 사이의 거리\t거리의 최솟값  \n",
    "[21, 17]\t    [2, 9, 3, 11]     2  \n",
    "[2, 21]\t        [11, 3, 3, 8]\t  3  \n",
    "[2, 11]\t        [14, 3, 4, 4]\t  3  \n",
    "[11, 21]\t    [2, 12, 3, 8]\t  2  \n",
    "[2, 14]\t        [11, 6, 4, 4]\t  4  \n",
    "위에서 구한 거리의 최솟값 중에 가장 큰 값은 4입니다.  \n",
    "  \n",
    "출발지점부터 도착지점까지의 거리 distance, 바위들이 있는 위치를 담은 배열 rocks, 제거할 바위의 수 n이 매개변수로 주어질 때, 바위를 n개 제거한 뒤 각 지점 사이의 거리의 최솟값 중에 가장 큰 값을 return  \n",
    "  \n",
    "제한사항  \n",
    "도착지점까지의 거리 distance는 1 이상 1,000,000,000 이하입니다.  \n",
    "바위는 1개 이상 50,000개 이하가 있습니다.  \n",
    "n 은 1 이상 바위의 개수 이하입니다.  \n"
   ]
  },
  {
   "cell_type": "code",
   "execution_count": 1,
   "metadata": {},
   "outputs": [
    {
     "data": {
      "text/plain": [
       "4"
      ]
     },
     "execution_count": 1,
     "metadata": {},
     "output_type": "execute_result"
    }
   ],
   "source": [
    "def solution(distance, rocks, n):\n",
    "    left, right = 0, distance\n",
    "    rocks = rocks + [distance]\n",
    "    rocks.sort()\n",
    "    answer = 0\n",
    "    while left <= right:\n",
    "        mid = (left+right)//2\n",
    "        start = 0\n",
    "        remove_count = 0\n",
    "        temp = float('inf')\n",
    "        for rock in rocks:\n",
    "            dist = rock-start\n",
    "            if dist < mid:\n",
    "                remove_count += 1\n",
    "\n",
    "            else:\n",
    "                start = rock\n",
    "                temp = min(temp, dist)\n",
    "\n",
    "        if remove_count > n:\n",
    "            right = mid - 1\n",
    "\n",
    "        else:\n",
    "            answer = temp\n",
    "            left = mid + 1\n",
    "\n",
    "    return answer\n",
    "\n",
    "distance = 25\n",
    "rocks = [2, 14, 11, 21, 17]\n",
    "n = 2\n",
    "solution(distance, rocks, n)"
   ]
  }
 ],
 "metadata": {
  "kernelspec": {
   "display_name": "Python 3.8.8 ('base')",
   "language": "python",
   "name": "python3"
  },
  "language_info": {
   "codemirror_mode": {
    "name": "ipython",
    "version": 3
   },
   "file_extension": ".py",
   "mimetype": "text/x-python",
   "name": "python",
   "nbconvert_exporter": "python",
   "pygments_lexer": "ipython3",
   "version": "3.8.8"
  },
  "orig_nbformat": 4,
  "vscode": {
   "interpreter": {
    "hash": "40d3a090f54c6569ab1632332b64b2c03c39dcf918b08424e98f38b5ae0af88f"
   }
  }
 },
 "nbformat": 4,
 "nbformat_minor": 2
}

{
 "cells": [
  {
   "cell_type": "markdown",
   "metadata": {},
   "source": [
    "##### 1712 손익분기점\n",
    "\n",
    "input = A B C  \n",
    "A : 매년 고정 비용  \n",
    "B : 한대의 노트북 생산비용  \n",
    "C : 노트북 가격  "
   ]
  },
  {
   "cell_type": "code",
   "execution_count": 6,
   "metadata": {},
   "outputs": [
    {
     "name": "stdout",
     "output_type": "stream",
     "text": [
      "11\n"
     ]
    }
   ],
   "source": [
    "import sys\n",
    "\n",
    "input = sys.stdin.readline\n",
    "# A, B, C = map(int, input().split())\n",
    "A, B, C = 1000, 70, 170\n",
    "\n",
    "if C<=B:\n",
    "    print(-1)\n",
    "\n",
    "else:\n",
    "    print(A // (C-B) + 1)"
   ]
  },
  {
   "cell_type": "markdown",
   "metadata": {},
   "source": [
    "##### 2292 벌집\n",
    "\n",
    "input = N  \n",
    "  \n",
    "N: 1 <= N <= 1,000,000,000  \n",
    "육각형으로 이루어진 벌집 중심(1)부터 시작해 이웃하는 방에 돌아가면서 1씩 증가해 N번 방까지 최소 개수의 방을 지나갈때의 방의 개수구하기(시작과 끝포함)"
   ]
  },
  {
   "cell_type": "code",
   "execution_count": null,
   "metadata": {},
   "outputs": [],
   "source": [
    "n = 13\n",
    "move = 0\n",
    "cur = 0\n",
    "while True:\n",
    "    if n-1 <= cur:\n",
    "        print(move+1)\n",
    "        break    \n",
    "    move += 1\n",
    "    cur += 6*move\n",
    "\n",
    "# 계차수열 [a_n+1 - a_n = b_n (a_n의 계차수열)]"
   ]
  },
  {
   "cell_type": "markdown",
   "metadata": {},
   "source": [
    "#### 1193 분수찾기\n",
    "\n",
    "1/1 , 1/2, 1/3 ...\n",
    "\n",
    "2/1 , 2/2, 2/3 ...\n",
    "\n",
    "3/1 , 3/2, 3/3 ...  \n",
    "...  \n",
    "...  \n",
    "\n",
    "이와 같이 나열된 분수들을 1/1 → 1/2 → 2/1 → 3/1 → 2/2 → … 과 같은 지그재그 순서로 차례대로 1번, 2번, 3번, 4번, 5번, … 분수라고 하자.\n",
    "\n",
    "X가 주어졌을 때, X번째 분수를 구하는 프로그램을 작성하시오.\n",
    "\n"
   ]
  },
  {
   "cell_type": "code",
   "execution_count": null,
   "metadata": {},
   "outputs": [],
   "source": [
    "n = 3\n",
    "\n",
    "start = 1\n",
    "col = 1\n",
    "while True:\n",
    "    \n",
    "    if col%2 == 0:\n",
    "        if start <= n <= start + ((col-1)*1):\n",
    "            diff = n%start\n",
    "            cur_row = 1 + diff\n",
    "            cur_col = col - diff\n",
    "            print(str(cur_row) + '/' + str(cur_col))\n",
    "            break\n",
    "        start += 4 * (col//2)\n",
    "        \n",
    "    else:\n",
    "        if  start - ((col-1) * 1)<= n <= start:\n",
    "            diff = start%n\n",
    "            cur_row = 1 + diff\n",
    "            cur_col = col - diff\n",
    "            print(str(cur_row) + '/' + str(cur_col))\n",
    "            break\n",
    "        start += 1\n",
    "    col += 1\n",
    "    \n",
    "\n",
    "print(start)\n",
    "print(col)"
   ]
  },
  {
   "cell_type": "markdown",
   "metadata": {},
   "source": [
    "#### 2869 달팽이는 올라가고 싶다.\n",
    "\n",
    "달팽이는 높이가 V미터인 나무 막대를 올라갈 것이다.  \n",
    "  \n",
    "달팽이는 낮에 A미터 올라갈 수 있다. 하지만, 밤에 잠을 자는 동안 B미터 미끄러진다. 또, 정상에 올라간 후에는 미끄러지지 않는다.  \n",
    "  \n",
    "달팽이가 나무 막대를 모두 올라가려면, 며칠이 걸리는지 구하는 프로그램을 작성하시오.  \n",
    "\n",
    "입력 : 첫째 줄에 세 정수 A, B, V가 공백으로 구분되어서 주어진다. (1 ≤ B < A ≤ V ≤ 1,000,000,000)  "
   ]
  },
  {
   "cell_type": "code",
   "execution_count": 1,
   "metadata": {},
   "outputs": [
    {
     "name": "stdout",
     "output_type": "stream",
     "text": [
      "2\n"
     ]
    }
   ],
   "source": [
    "# a = 100\n",
    "# b = 99\n",
    "# v = 1000000000\n",
    "# res = 999999901\n",
    "\n",
    "# a = 2\n",
    "# b = 1\n",
    "# v = 5\n",
    "# res = 4\n",
    "\n",
    "a,b,v,res = 5,1,6,2\n",
    "\n",
    "day = a-b\n",
    "\n",
    "print((v-b-1)//day + 1)"
   ]
  },
  {
   "cell_type": "markdown",
   "metadata": {},
   "source": [
    "#### 10250 ACM 호텔\n",
    "\n",
    "손님들은 호텔 정문으로부터 걸어서 가장 짧은 거리에 있는 방을 선호한다고 한다.  \n",
    "설문조사 결과 대로 호텔 정문으로부터 걷는 거리가 가장 짧도록 방을 배정하는 프로그램을 작성하고자 한다.  \n",
    "문제를 단순화하기 위해서 호텔은 직사각형 모양이라고 가정하자.  \n",
    "각 층에 W 개의 방이 있는 H 층 건물이라고 가정하자 (1 ≤ H, W ≤ 99).  \n",
    "그리고 엘리베이터는 가장 왼쪽에 있다고 가정하자.  \n",
    "이런 형태의 호텔을 H × W 형태 호텔이라고 부른다.  \n",
    "호텔 정문은 일층 엘리베이터 바로 앞에 있는데, 정문에서 엘리베이터까지의 거리는 무시한다.  \n",
    "또 모든 인접한 두 방 사이의 거리는 같은 거리(거리 1)라고 가정하고 호텔의 정면 쪽에만 방이 있다고 가정한다.  \n",
    "방 번호는 YXX 나 YYXX 형태인데 여기서 Y 나 YY 는 층 수를 나타내고 XX 는 엘리베이터에서부터 세었을 때의 번호를 나타낸다.  \n",
    "손님은 엘리베이터를 타고 이동하는 거리는 신경 쓰지 않는다. 다만 걷는 거리가 같을 때에는 아래층의 방을 더 선호한다.  \n",
    "예를 들면 102 호 방보다는 301 호 방을 더 선호하는데, 102 호는 거리 2 만큼 걸어야 하지만 301 호는 거리 1 만큼만 걸으면 되기 때문이다.  \n",
    "이 정책에 따라 N 번째로 도착한 손님에게 배정될 방 번호를 계산하는 프로그램이다.  \n",
    "첫 번째 손님은 101 호, 두 번째 손님은 201 호 등과 같이 배정한다.  \n",
    "  \n",
    "각 테스트 데이터는 한 행으로서 H, W, N, 세 정수를 포함하고 있으며 각각 호텔의 층 수, 각 층의 방 수, 몇 번째 손님인지를 나타낸다  \n",
    "(1 ≤ H, W ≤ 99, 1 ≤ N ≤ H × W). "
   ]
  },
  {
   "cell_type": "code",
   "execution_count": null,
   "metadata": {},
   "outputs": [],
   "source": [
    "T = 2\n",
    "\n",
    "test = [[6, 12, 10], [30, 50, 72]]\n",
    "\n",
    "\n",
    "for H,W,N in test:\n",
    "    room, floor = divmod(N-1, H)\n",
    "    print((floor+1)*100+(room+1))"
   ]
  }
 ],
 "metadata": {
  "kernelspec": {
   "display_name": "Python 3.9.10 64-bit",
   "language": "python",
   "name": "python3"
  },
  "language_info": {
   "codemirror_mode": {
    "name": "ipython",
    "version": 3
   },
   "file_extension": ".py",
   "mimetype": "text/x-python",
   "name": "python",
   "nbconvert_exporter": "python",
   "pygments_lexer": "ipython3",
   "version": "3.9.10"
  },
  "orig_nbformat": 4,
  "vscode": {
   "interpreter": {
    "hash": "b0fa6594d8f4cbf19f97940f81e996739fb7646882a419484c72d19e05852a7e"
   }
  }
 },
 "nbformat": 4,
 "nbformat_minor": 2
}

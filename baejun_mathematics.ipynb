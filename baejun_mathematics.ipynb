{
 "cells": [
  {
   "cell_type": "markdown",
   "metadata": {},
   "source": [
    "##### 1712 손익분기점\n",
    "\n",
    "input = A B C  \n",
    "A : 매년 고정 비용  \n",
    "B : 한대의 노트북 생산비용  \n",
    "C : 노트북 가격  "
   ]
  },
  {
   "cell_type": "code",
   "execution_count": 6,
   "metadata": {},
   "outputs": [
    {
     "name": "stdout",
     "output_type": "stream",
     "text": [
      "11\n"
     ]
    }
   ],
   "source": [
    "import sys\n",
    "\n",
    "input = sys.stdin.readline\n",
    "# A, B, C = map(int, input().split())\n",
    "A, B, C = 1000, 70, 170\n",
    "\n",
    "if C<=B:\n",
    "    print(-1)\n",
    "\n",
    "else:\n",
    "    print(A // (C-B) + 1)"
   ]
  },
  {
   "cell_type": "markdown",
   "metadata": {},
   "source": [
    "##### 2292 벌집\n",
    "\n",
    "input = N  \n",
    "  \n",
    "N: 1 <= N <= 1,000,000,000  \n",
    "육각형으로 이루어진 벌집 중심(1)부터 시작해 이웃하는 방에 돌아가면서 1씩 증가해 N번 방까지 최소 개수의 방을 지나갈때의 방의 개수구하기(시작과 끝포함)"
   ]
  },
  {
   "cell_type": "code",
   "execution_count": null,
   "metadata": {},
   "outputs": [],
   "source": [
    "n = 13\n",
    "move = 0\n",
    "cur = 0\n",
    "while True:\n",
    "    if n-1 <= cur:\n",
    "        print(move+1)\n",
    "        break    \n",
    "    move += 1\n",
    "    cur += 6*move\n",
    "\n",
    "# 계차수열 [a_n+1 - a_n = b_n (a_n의 계차수열)]"
   ]
  }
 ],
 "metadata": {
  "kernelspec": {
   "display_name": "Python 3.9.10 64-bit",
   "language": "python",
   "name": "python3"
  },
  "language_info": {
   "codemirror_mode": {
    "name": "ipython",
    "version": 3
   },
   "file_extension": ".py",
   "mimetype": "text/x-python",
   "name": "python",
   "nbconvert_exporter": "python",
   "pygments_lexer": "ipython3",
   "version": "3.9.10"
  },
  "orig_nbformat": 4,
  "vscode": {
   "interpreter": {
    "hash": "b0fa6594d8f4cbf19f97940f81e996739fb7646882a419484c72d19e05852a7e"
   }
  }
 },
 "nbformat": 4,
 "nbformat_minor": 2
}

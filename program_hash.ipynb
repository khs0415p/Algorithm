{
 "cells": [
  {
   "cell_type": "code",
   "execution_count": 7,
   "metadata": {},
   "outputs": [
    {
     "name": "stdout",
     "output_type": "stream",
     "text": [
      "leo\n",
      "vinko\n",
      "mislav\n"
     ]
    }
   ],
   "source": [
    "# 처음 생각한 방법 : 정렬, Counter / hash함수사용!\n",
    "# 단 한 명의 선수를 제외 못한사람 return\n",
    "# paarticipant completion return\n",
    "# [\"leo\", \"kiki\", \"eden\"]\t[\"eden\", \"kiki\"]\t\"leo\"\n",
    "# [\"marina\", \"josipa\", \"nikola\", \"vinko\", \"filipa\"]\t[\"josipa\", \"filipa\", \"marina\", \"nikola\"]\t\"vinko\"\n",
    "# [\"mislav\", \"stanko\", \"mislav\", \"ana\"]\t[\"stanko\", \"ana\", \"mislav\"]\t\"mislav\"\n",
    "from collections import Counter\n",
    "\n",
    "def sol(participant, completion):\n",
    "    participant = Counter(participant)\n",
    "    completion = Counter(completion)\n",
    "    return list((participant - completion).keys())[0]\n",
    "    \n",
    "\n",
    "def sol_2(p, c):\n",
    "    \n",
    "    temp = 0\n",
    "    dic = {}\n",
    "    for par in p:\n",
    "        print(par,':',hash(par))\n",
    "        dic[hash(par)] = par\n",
    "        temp += int(hash(par))\n",
    "\n",
    "    for com in c:\n",
    "        temp -= hash(com)\n",
    "\n",
    "    return dic[temp]\n",
    "\n",
    "\n",
    "if __name__ == \"__main__\":\n",
    "    participants = [[\"leo\", \"kiki\", \"eden\"], [\"marina\", \"josipa\", \"nikola\", \"vinko\", \"filipa\"], [\"mislav\", \"stanko\", \"mislav\", \"ana\"]]\n",
    "    completions = [[\"eden\", \"kiki\"], [\"josipa\", \"filipa\", \"marina\", \"nikola\"], [\"stanko\", \"ana\", \"mislav\"]]\n",
    "\n",
    "    for p,c in zip(participants, completions):\n",
    "        print(sol(p,c))"
   ]
  },
  {
   "cell_type": "code",
   "execution_count": null,
   "metadata": {},
   "outputs": [],
   "source": [
    "# 속도는 sort\n",
    "# 접두어이면 false 아니면 ture\n",
    "# phone_book\treturn\n",
    "# [\"119\", \"97674223\", \"1195524421\"]\tfalse\n",
    "# [\"123\",\"456\",\"789\"]\ttrue\n",
    "# [\"12\",\"123\",\"1235\",\"567\",\"88\"]\tfalse\n",
    "\n",
    "def sol(phone_book):\n",
    "    phone_book.sort()\n",
    "    for f,s in zip(phone_book[:-1],phone_book[1:]):\n",
    "        if s.startswith(f):\n",
    "            return False\n",
    "    return True\n",
    "\n",
    "def sol_2(phone_book):\n",
    "    dic = {}\n",
    "    for num in phone_book:\n",
    "        dic[num] = 1\n",
    "\n",
    "    for num in phone_book:\n",
    "        temp = \"\"\n",
    "        for n in num:\n",
    "            temp += n\n",
    "            if temp in dic and temp != num:\n",
    "                return False\n",
    "    return True\n",
    "\n",
    "if __name__ == \"__main__\":\n",
    "    phones = [[\"119\", \"97674223\", \"1195524421\"], [\"123\",\"456\",\"789\"], [\"12\",\"123\",\"1235\",\"567\",\"88\"]]\n",
    "    for phone in phones:\n",
    "        print(sol_2(phone))"
   ]
  },
  {
   "cell_type": "code",
   "execution_count": 18,
   "metadata": {},
   "outputs": [
    {
     "name": "stdout",
     "output_type": "stream",
     "text": [
      "{'headgear': 2, 'eyewear': 1}\n",
      "5\n"
     ]
    }
   ],
   "source": [
    "# clothes\treturn\n",
    "# [[\"yellowhat\", \"headgear\"], [\"bluesunglasses\", \"eyewear\"], [\"green_turban\", \"headgear\"]]\t5\n",
    "# [[\"crowmask\", \"face\"], [\"bluesunglasses\", \"face\"], [\"smoky_makeup\", \"face\"]]\t3\n",
    "def sol(clothes):\n",
    "    dic = {}\n",
    "    for cloths in clothes:\n",
    "        if cloths[1] in dic:\n",
    "            dic[cloths[1]] += 1\n",
    "        else:\n",
    "            dic[cloths[1]] = 1\n",
    "\n",
    "    answer = 1\n",
    "    for v in dic.values():\n",
    "        answer *= v + 1\n",
    "    \n",
    "    return answer - 1\n",
    "    \n",
    "\n",
    "\n",
    "if __name__ == \"__main__\":\n",
    "    clothes = [[\"yellowhat\", \"headgear\"], [\"bluesunglasses\", \"eyewear\"], [\"green_turban\", \"headgear\"]]\n",
    "    print(sol(clothes))"
   ]
  },
  {
   "cell_type": "code",
   "execution_count": 19,
   "metadata": {},
   "outputs": [
    {
     "name": "stdout",
     "output_type": "stream",
     "text": [
      "[3, 0, 1]\n"
     ]
    }
   ],
   "source": [
    "# genres\tplays\treturn\n",
    "# [\"classic\", \"pop\", \"classic\", \"classic\", \"pop\"]\t[500, 600, 150, 800, 2500]\t[4, 1, 3, 0]\n",
    "# 속한 노래가 많이 재생된 장르를 먼저 수록합니다.\n",
    "# 장르 내에서 많이 재생된 노래를 먼저 수록합니다.\n",
    "# 장르 내에서 재생 횟수가 같은 노래 중에서는 고유 번호가 낮은 노래를 먼저 수록합니다.\n",
    "# 베스트 앨범에 들어갈 노래의 고유 번호를 순서대로 return 하도록 solution 함수를 완성\n",
    "# genres[i]는 고유번호가 i인 노래의 장르\n",
    "# plays[i]는 고유번호가 i인 노래가 재생된 횟수\n",
    "# 장르에 속한 곡이 하나라면, 하나의 곡만 선택합니다.\n",
    "\n",
    "from collections import defaultdict\n",
    "def sol(genres, plays):\n",
    "    dic = defaultdict(list)\n",
    "    sort_dic = {}\n",
    "\n",
    "    for i, (g,p) in enumerate(zip(genres, plays)):\n",
    "        dic[g].append([p, i])\n",
    "        if g in sort_dic:\n",
    "            sort_dic[g] += p\n",
    "        else:\n",
    "            sort_dic[g] = p\n",
    "    \n",
    "    sort_name = sorted(sort_dic.items(), key= lambda x:x[1], reverse=True)\n",
    "    \n",
    "    answer = []\n",
    "    for name in sort_name:\n",
    "        for _,id in sorted(dic[name[0]], key=lambda x:x[0], reverse=True)[:2]:\n",
    "            answer.append(id)\n",
    "\n",
    "    return answer\n",
    "\n",
    "\n",
    "\n",
    "if __name__ == \"__main__\":\n",
    "    geners = [\"classic\", \"pop\", \"classic\", \"classic\", ]\n",
    "    plays = [500, 600, 150, 800]\n",
    "    print(sol(geners, plays))"
   ]
  }
 ],
 "metadata": {
  "interpreter": {
   "hash": "40d3a090f54c6569ab1632332b64b2c03c39dcf918b08424e98f38b5ae0af88f"
  },
  "kernelspec": {
   "display_name": "Python 3.8.8 ('base')",
   "language": "python",
   "name": "python3"
  },
  "language_info": {
   "codemirror_mode": {
    "name": "ipython",
    "version": 3
   },
   "file_extension": ".py",
   "mimetype": "text/x-python",
   "name": "python",
   "nbconvert_exporter": "python",
   "pygments_lexer": "ipython3",
   "version": "3.8.8"
  },
  "orig_nbformat": 4
 },
 "nbformat": 4,
 "nbformat_minor": 2
}

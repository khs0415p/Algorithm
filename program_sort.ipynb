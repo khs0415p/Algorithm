{
 "cells": [
  {
   "cell_type": "code",
   "execution_count": null,
   "metadata": {},
   "outputs": [],
   "source": [
    "# 예를 들어 array가 [1, 5, 2, 6, 3, 7, 4], i = 2, j = 5, k = 3이라면\n",
    "\n",
    "# array의 2번째부터 5번째까지 자르면 [5, 2, 6, 3]입니다.\n",
    "# 1에서 나온 배열을 정렬하면 [2, 3, 5, 6]입니다.\n",
    "# 2에서 나온 배열의 3번째 숫자는 5입니다.\n",
    "\n",
    "# array의 길이는 1 이상 100 이하입니다.\n",
    "# array의 각 원소는 1 이상 100 이하입니다.\n",
    "# commands의 길이는 1 이상 50 이하입니다.\n",
    "# commands의 각 원소는 길이가 3입니다.\n",
    "# 입출력 예\n",
    "# array\tcommands\treturn\n",
    "# [1, 5, 2, 6, 3, 7, 4]\t[[2, 5, 3], [4, 4, 1], [1, 7, 3]]\t[5, 6, 3]\n",
    "\n",
    "def solution(array, commands):\n",
    "    answer = [ sorted(array[i-1:j])[k-1] for i,j,k  in commands]\n",
    "    return answer\n",
    "\n",
    "if __name__ == \"__main__\":\n",
    "    array = [1,5,2,6,3,7,4]\n",
    "    commands = [[2,5,3], [4,4,1], [1,7,3]]\n",
    "    print(solution(array, commands))"
   ]
  },
  {
   "cell_type": "code",
   "execution_count": 3,
   "metadata": {},
   "outputs": [
    {
     "name": "stdout",
     "output_type": "stream",
     "text": [
      "9534330\n"
     ]
    }
   ],
   "source": [
    "# numbers의 길이는 1 이상 100,000 이하입니다.\n",
    "# numbers의 원소는 0 이상 1,000 이하입니다.\n",
    "\n",
    "def solution(numbers):\n",
    "    \n",
    "    numbers = map(str, numbers)\n",
    "    numbers = sorted(numbers, key=lambda x:str(x)*3, reverse=True)\n",
    "    answer = ''.join(numbers)\n",
    "\n",
    "    return '0' if answer[0] == '0' else answer\n",
    "    \n",
    "\n",
    "if __name__ ==  \"__main__\":\n",
    "    numbers = [6,10,2]\n",
    "    numbers = [3, 30, 34, 5, 9]\n",
    "    print(solution(numbers))\n"
   ]
  },
  {
   "cell_type": "code",
   "execution_count": 21,
   "metadata": {},
   "outputs": [
    {
     "name": "stdout",
     "output_type": "stream",
     "text": [
      "3\n"
     ]
    }
   ],
   "source": [
    "# 과학자가 발표한 논문의 수는 1편 이상 1,000편 이하입니다.\n",
    "# 논문별 인용 횟수는 0회 이상 10,000회 이하입니다.\n",
    "# 입출력 예\n",
    "# citations\treturn\n",
    "# [3, 0, 6, 1, 5]\t3\n",
    "\n",
    "def solution(critations):\n",
    "    critations.sort(reverse=True)\n",
    "    \n",
    "    for h in range(len(critations), 0, -1):\n",
    "        if critations[h-1] >= h:\n",
    "            return h\n",
    "\n",
    "    return 0\n",
    "\n",
    "\n",
    "\n",
    "if __name__ == \"__main__\":\n",
    "    \n",
    "    critations = [3, 0, 6, 1, 5]\n",
    "    print(solution(critations))"
   ]
  }
 ],
 "metadata": {
  "interpreter": {
   "hash": "40d3a090f54c6569ab1632332b64b2c03c39dcf918b08424e98f38b5ae0af88f"
  },
  "kernelspec": {
   "display_name": "Python 3.8.8 ('base')",
   "language": "python",
   "name": "python3"
  },
  "language_info": {
   "codemirror_mode": {
    "name": "ipython",
    "version": 3
   },
   "file_extension": ".py",
   "mimetype": "text/x-python",
   "name": "python",
   "nbconvert_exporter": "python",
   "pygments_lexer": "ipython3",
   "version": "3.8.8"
  },
  "orig_nbformat": 4
 },
 "nbformat": 4,
 "nbformat_minor": 2
}

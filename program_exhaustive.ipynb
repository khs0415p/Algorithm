{
 "cells": [
  {
   "cell_type": "markdown",
   "metadata": {},
   "source": [
    "모의고사\n",
    "\n",
    "수포자 삼인방은 모의고사에 수학 문제를 전부 찍으려 함  \n",
    "수포자는 1번 문제부터 마지막 문제까지 다음과 같이 찍음.  \n",
    "\n",
    "1번 수포자가 찍는 방식: 1, 2, 3, 4, 5, 1, 2, 3, 4, 5, ...\n",
    "2번 수포자가 찍는 방식: 2, 1, 2, 3, 2, 4, 2, 5, 2, 1, 2, 3, 2, 4, 2, 5, ...\n",
    "3번 수포자가 찍는 방식: 3, 3, 1, 1, 2, 2, 4, 4, 5, 5, 3, 3, 1, 1, 2, 2, 4, 4, 5, 5, ...\n",
    "\n",
    "1번 문제부터 마지막 문제까지의 정답이 순서대로 들은 배열 answers가 주어졌을 때, 가장 많은 문제를 맞힌 사람이 누구인지 배열에 담아 return  \n",
    "  \n",
    "제한 조건  \n",
    "시험은 최대 10,000 문제로 구성되어있습니다.  \n",
    "문제의 정답은 1, 2, 3, 4, 5중 하나입니다.  \n",
    "가장 높은 점수를 받은 사람이 여럿일 경우, return하는 값을 오름차순 정렬  \n",
    "\n"
   ]
  },
  {
   "cell_type": "code",
   "execution_count": 37,
   "metadata": {},
   "outputs": [
    {
     "data": {
      "text/plain": [
       "[1]"
      ]
     },
     "execution_count": 37,
     "metadata": {},
     "output_type": "execute_result"
    }
   ],
   "source": [
    "def solution(answers):\n",
    "    answers = list(map(lambda x:str(x), answers))\n",
    "    length = len(answers)\n",
    "\n",
    "    first = '12345'\n",
    "    second = '21232425'\n",
    "    third = '3311224455'\n",
    "\n",
    "    first *= ((length // len(first)) + 1)\n",
    "    second *= ((length // len(second)) + 1)\n",
    "    third *= ((length // len(third)) + 1)\n",
    "    \n",
    "    results = [0] * 3\n",
    "    for i in range(len(answers)):\n",
    "\n",
    "        results[0] += int(answers[i] == first[i])\n",
    "        results[1] += int(answers[i] == second[i])\n",
    "        results[2] += int(answers[i] == third[i])\n",
    "\n",
    "    final = []\n",
    "    maxValue = max(results)\n",
    "    \n",
    "    for idx, res in enumerate(results):\n",
    "        if res == maxValue:\n",
    "            final.append(idx+1)\n",
    "\n",
    "    return final\n",
    "solution([1,2,3,4,5])\n",
    "# answers\treturn\n",
    "# [1,2,3,4,5]\t[1]\n",
    "# [1,3,2,4,2]\t[1,2,3]"
   ]
  },
  {
   "cell_type": "markdown",
   "metadata": {},
   "source": [
    "소수 찾기\n",
    "\n",
    "한자리 숫자가 적힌 흩어진 종이 조각을 붙여 소수를 몇 개 만들 수 있는지 알아내려 함  \n",
    "  \n",
    "각 종이 조각에 적힌 숫자가 적힌 문자열 numbers가 주어졌을 때, 종이 조각으로 만들 수 있는 소수가 몇 개인지 return  \n",
    "  \n",
    "제한사항  \n",
    "numbers는 길이 1 이상 7 이하인 문자열입니다.  \n",
    "numbers는 0~9까지 숫자만으로 이루어져 있습니다.  \n",
    "\"013\"은 0, 1, 3 숫자가 적힌 종이 조각이 흩어져있다는 의미입니다.  "
   ]
  },
  {
   "cell_type": "code",
   "execution_count": 75,
   "metadata": {},
   "outputs": [
    {
     "data": {
      "text/plain": [
       "3"
      ]
     },
     "execution_count": 75,
     "metadata": {},
     "output_type": "execute_result"
    }
   ],
   "source": [
    "from itertools import permutations\n",
    "def solution(numbers):\n",
    "    # 시간 오래걸림\n",
    "    primeNumber = [False] * 9999999\n",
    "    primeNumber[:2] = [True, True]\n",
    "    \n",
    "    for i in range(2, len(primeNumber)):\n",
    "        if not primeNumber[i]:\n",
    "            \n",
    "            primeNumber[i+i::i] = [True] * len(primeNumber[i+i::i])\n",
    "\n",
    "    num_sets = set()\n",
    "    for i in range(1, len(numbers)+1):\n",
    "        for num_set in set(permutations(numbers, i)):\n",
    "            num_sets.add(int(\"\".join(num_set)))\n",
    "\n",
    "    answer = 0\n",
    "    for num in num_sets:\n",
    "        if not primeNumber[num]:\n",
    "            answer += 1\n",
    "\n",
    "    return answer\n",
    "\n",
    "def solution2(numbers):\n",
    "    \n",
    "    num_sets = set()\n",
    "    for i in range(1, len(numbers)+1):\n",
    "        for num_set in set(permutations(numbers, i)):\n",
    "            num = int(\"\".join(num_set))\n",
    "            if num > 1:\n",
    "                num_sets.add(num)\n",
    "    \n",
    "    answer = 0\n",
    "    for num in num_sets:\n",
    "        flag = True\n",
    "        for i in range(2, int(num**0.5)+1):\n",
    "            if not num % i:\n",
    "                break\n",
    "        else:\n",
    "            answer += 1\n",
    "\n",
    "    return answer\n",
    "# numbers\treturn\n",
    "# \"17\"\t3\n",
    "# \"011\"\t2\n",
    "solution2(\"17\")"
   ]
  },
  {
   "cell_type": "markdown",
   "metadata": {},
   "source": [
    "카펫  \n",
    "  \n",
    "카펫을 사러 갔다가 아래 그림과 같이 중앙에는 노란색으로 칠해져 있고 테두리 1줄은 갈색으로 칠해져 있는 격자 모양 카펫을 봤습니다.\n",
    "  \n",
    "B B B B  \n",
    "B Y Y B  \n",
    "B B B B  \n",
    "  \n",
    "집으로 돌아와서 아까 본 카펫의 노란색과 갈색으로 색칠된 격자의 개수는 기억했지만, 전체 카펫의 크기는 기억하지 못했습니다.  \n",
    "  \n",
    "Leo가 본 카펫에서 갈색 격자의 수 brown, 노란색 격자의 수 yellow가 매개변수로 주어질 때 카펫의 가로, 세로 크기를 순서대로 배열에 담아 return  \n",
    "  \n",
    "제한사항  \n",
    "갈색 격자의 수 brown은 8 이상 5,000 이하인 자연수입니다.  \n",
    "노란색 격자의 수 yellow는 1 이상 2,000,000 이하인 자연수입니다.  \n",
    "카펫의 가로 길이는 세로 길이와 같거나, 세로 길이보다 깁니다.  \n"
   ]
  },
  {
   "cell_type": "code",
   "execution_count": 1,
   "metadata": {},
   "outputs": [
    {
     "data": {
      "text/plain": [
       "[4, 3]"
      ]
     },
     "execution_count": 1,
     "metadata": {},
     "output_type": "execute_result"
    }
   ],
   "source": [
    "def solution(brown, yellow):\n",
    "    total = brown + yellow\n",
    "    candidates = [[total//i, i] for i in range(3, int(total**0.5)+1) if total % i == 0]\n",
    "\n",
    "    for candidate in candidates:\n",
    "        if ((candidate[0]-2) * (candidate[1]-2)) == yellow:\n",
    "            return candidate\n",
    "\n",
    "# 입출력 예\n",
    "# brown\tyellow\treturn\n",
    "# 10\t2\t[4, 3]\n",
    "# 8\t1\t[3, 3]\n",
    "# 24\t24\t[8, 6]\n",
    "\n",
    "solution(10, 2)"
   ]
  }
 ],
 "metadata": {
  "kernelspec": {
   "display_name": "Python 3.9.10 64-bit",
   "language": "python",
   "name": "python3"
  },
  "language_info": {
   "codemirror_mode": {
    "name": "ipython",
    "version": 3
   },
   "file_extension": ".py",
   "mimetype": "text/x-python",
   "name": "python",
   "nbconvert_exporter": "python",
   "pygments_lexer": "ipython3",
   "version": "3.9.10"
  },
  "orig_nbformat": 4,
  "vscode": {
   "interpreter": {
    "hash": "b0fa6594d8f4cbf19f97940f81e996739fb7646882a419484c72d19e05852a7e"
   }
  }
 },
 "nbformat": 4,
 "nbformat_minor": 2
}

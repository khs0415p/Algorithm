{
 "cells": [
  {
   "cell_type": "markdown",
   "metadata": {},
   "source": [
    "모의고사\n",
    "\n",
    "수포자 삼인방은 모의고사에 수학 문제를 전부 찍으려 함  \n",
    "수포자는 1번 문제부터 마지막 문제까지 다음과 같이 찍음.  \n",
    "\n",
    "1번 수포자가 찍는 방식: 1, 2, 3, 4, 5, 1, 2, 3, 4, 5, ...\n",
    "2번 수포자가 찍는 방식: 2, 1, 2, 3, 2, 4, 2, 5, 2, 1, 2, 3, 2, 4, 2, 5, ...\n",
    "3번 수포자가 찍는 방식: 3, 3, 1, 1, 2, 2, 4, 4, 5, 5, 3, 3, 1, 1, 2, 2, 4, 4, 5, 5, ...\n",
    "\n",
    "1번 문제부터 마지막 문제까지의 정답이 순서대로 들은 배열 answers가 주어졌을 때, 가장 많은 문제를 맞힌 사람이 누구인지 배열에 담아 return  \n",
    "  \n",
    "제한 조건  \n",
    "시험은 최대 10,000 문제로 구성되어있습니다.  \n",
    "문제의 정답은 1, 2, 3, 4, 5중 하나입니다.  \n",
    "가장 높은 점수를 받은 사람이 여럿일 경우, return하는 값을 오름차순 정렬  \n",
    "\n"
   ]
  },
  {
   "cell_type": "code",
   "execution_count": 37,
   "metadata": {},
   "outputs": [
    {
     "data": {
      "text/plain": [
       "[1]"
      ]
     },
     "execution_count": 37,
     "metadata": {},
     "output_type": "execute_result"
    }
   ],
   "source": [
    "def solution(answers):\n",
    "    answers = list(map(lambda x:str(x), answers))\n",
    "    length = len(answers)\n",
    "\n",
    "    first = '12345'\n",
    "    second = '21232425'\n",
    "    third = '3311224455'\n",
    "\n",
    "    first *= ((length // len(first)) + 1)\n",
    "    second *= ((length // len(second)) + 1)\n",
    "    third *= ((length // len(third)) + 1)\n",
    "    \n",
    "    results = [0] * 3\n",
    "    for i in range(len(answers)):\n",
    "\n",
    "        results[0] += int(answers[i] == first[i])\n",
    "        results[1] += int(answers[i] == second[i])\n",
    "        results[2] += int(answers[i] == third[i])\n",
    "\n",
    "    final = []\n",
    "    maxValue = max(results)\n",
    "    \n",
    "    for idx, res in enumerate(results):\n",
    "        if res == maxValue:\n",
    "            final.append(idx+1)\n",
    "\n",
    "    return final\n",
    "solution([1,2,3,4,5])\n",
    "# answers\treturn\n",
    "# [1,2,3,4,5]\t[1]\n",
    "# [1,3,2,4,2]\t[1,2,3]"
   ]
  },
  {
   "cell_type": "markdown",
   "metadata": {},
   "source": [
    "소수 찾기\n",
    "\n",
    "한자리 숫자가 적힌 흩어진 종이 조각을 붙여 소수를 몇 개 만들 수 있는지 알아내려 함  \n",
    "  \n",
    "각 종이 조각에 적힌 숫자가 적힌 문자열 numbers가 주어졌을 때, 종이 조각으로 만들 수 있는 소수가 몇 개인지 return  \n",
    "  \n",
    "제한사항  \n",
    "numbers는 길이 1 이상 7 이하인 문자열입니다.  \n",
    "numbers는 0~9까지 숫자만으로 이루어져 있습니다.  \n",
    "\"013\"은 0, 1, 3 숫자가 적힌 종이 조각이 흩어져있다는 의미입니다.  "
   ]
  },
  {
   "cell_type": "code",
   "execution_count": 75,
   "metadata": {},
   "outputs": [
    {
     "data": {
      "text/plain": [
       "3"
      ]
     },
     "execution_count": 75,
     "metadata": {},
     "output_type": "execute_result"
    }
   ],
   "source": [
    "from itertools import permutations\n",
    "def solution(numbers):\n",
    "    # 시간 오래걸림\n",
    "    primeNumber = [False] * 9999999\n",
    "    primeNumber[:2] = [True, True]\n",
    "    \n",
    "    for i in range(2, len(primeNumber)):\n",
    "        if not primeNumber[i]:\n",
    "            \n",
    "            primeNumber[i+i::i] = [True] * len(primeNumber[i+i::i])\n",
    "\n",
    "    num_sets = set()\n",
    "    for i in range(1, len(numbers)+1):\n",
    "        for num_set in set(permutations(numbers, i)):\n",
    "            num_sets.add(int(\"\".join(num_set)))\n",
    "\n",
    "    answer = 0\n",
    "    for num in num_sets:\n",
    "        if not primeNumber[num]:\n",
    "            answer += 1\n",
    "\n",
    "    return answer\n",
    "\n",
    "def solution2(numbers):\n",
    "    \n",
    "    num_sets = set()\n",
    "    for i in range(1, len(numbers)+1):\n",
    "        for num_set in set(permutations(numbers, i)):\n",
    "            num = int(\"\".join(num_set))\n",
    "            if num > 1:\n",
    "                num_sets.add(num)\n",
    "    \n",
    "    answer = 0\n",
    "    for num in num_sets:\n",
    "        flag = True\n",
    "        for i in range(2, int(num**0.5)+1):\n",
    "            if not num % i:\n",
    "                break\n",
    "        else:\n",
    "            answer += 1\n",
    "\n",
    "    return answer\n",
    "# numbers\treturn\n",
    "# \"17\"\t3\n",
    "# \"011\"\t2\n",
    "solution2(\"17\")"
   ]
  },
  {
   "cell_type": "markdown",
   "metadata": {},
   "source": [
    "카펫  \n",
    "  \n",
    "카펫을 사러 갔다가 아래 그림과 같이 중앙에는 노란색으로 칠해져 있고 테두리 1줄은 갈색으로 칠해져 있는 격자 모양 카펫을 봤습니다.\n",
    "  \n",
    "B B B B  \n",
    "B Y Y B  \n",
    "B B B B  \n",
    "  \n",
    "집으로 돌아와서 아까 본 카펫의 노란색과 갈색으로 색칠된 격자의 개수는 기억했지만, 전체 카펫의 크기는 기억하지 못했습니다.  \n",
    "  \n",
    "Leo가 본 카펫에서 갈색 격자의 수 brown, 노란색 격자의 수 yellow가 매개변수로 주어질 때 카펫의 가로, 세로 크기를 순서대로 배열에 담아 return  \n",
    "  \n",
    "제한사항  \n",
    "갈색 격자의 수 brown은 8 이상 5,000 이하인 자연수입니다.  \n",
    "노란색 격자의 수 yellow는 1 이상 2,000,000 이하인 자연수입니다.  \n",
    "카펫의 가로 길이는 세로 길이와 같거나, 세로 길이보다 깁니다.  \n"
   ]
  },
  {
   "cell_type": "code",
   "execution_count": 1,
   "metadata": {},
   "outputs": [
    {
     "data": {
      "text/plain": [
       "[4, 3]"
      ]
     },
     "execution_count": 1,
     "metadata": {},
     "output_type": "execute_result"
    }
   ],
   "source": [
    "def solution(brown, yellow):\n",
    "    total = brown + yellow\n",
    "    candidates = [[total//i, i] for i in range(3, int(total**0.5)+1) if total % i == 0]\n",
    "\n",
    "    for candidate in candidates:\n",
    "        if ((candidate[0]-2) * (candidate[1]-2)) == yellow:\n",
    "            return candidate\n",
    "\n",
    "# 입출력 예\n",
    "# brown\tyellow\treturn\n",
    "# 10\t2\t[4, 3]\n",
    "# 8\t1\t[3, 3]\n",
    "# 24\t24\t[8, 6]\n",
    "\n",
    "solution(10, 2)"
   ]
  },
  {
   "cell_type": "markdown",
   "metadata": {},
   "source": [
    "피로도  \n",
    "  \n",
    "게임에는 피로도 시스템(0 이상의 정수로 표현합니다)이 있으며, 일정 피로도를 사용해서 던전을 탐험할 수 있습니다.  \n",
    "이때, 각 던전마다 탐험을 시작하기 위해 필요한 \"최소 필요 피로도\"와 던전 탐험을 마쳤을 때 소모되는 \"소모 피로도\"가 있습니다.  \n",
    "\"최소 필요 피로도\"는 해당 던전을 탐험하기 위해 가지고 있어야 하는 최소한의 피로도를 나타내며, \"소모 피로도\"는 던전을 탐험한 후 소모되는 피로도를 나타냅니다.  \n",
    "예를 들어 \"최소 필요 피로도\"가 80, \"소모 피로도\"가 20인 던전을 탐험하기 위해서는 유저의 현재 남은 피로도는 80 이상 이어야 하며, 던전을 탐험한 후에는 피로도 20이 소모됩니다.  \n",
    "  \n",
    "이 게임에는 하루에 한 번씩 탐험할 수 있는 던전이 여러개 있는데, 한 유저가 오늘 이 던전들을 최대한 많이 탐험하려 합니다. 유저의 현재 피로도 k와 각 던전별 \"최소 필요 피로도\", \"소모 피로도\"가 담긴 2차원 배열 dungeons 가 매개변수로 주어질 때, 유저가 탐험할수 있는 최대 던전 수를 return  \n",
    "  \n",
    "제한사항  \n",
    "k는 1 이상 5,000 이하인 자연수입니다.  \n",
    "dungeons의 세로(행) 길이(즉, 던전의 개수)는 1 이상 8 이하입니다.  \n",
    "dungeons의 가로(열) 길이는 2 입니다.  \n",
    "dungeons의 각 행은 각 던전의 [\"최소 필요 피로도\", \"소모 피로도\"] 입니다.  \n",
    "\"최소 필요 피로도\"는 항상 \"소모 피로도\"보다 크거나 같습니다.  \n",
    "\"최소 필요 피로도\"와 \"소모 피로도\"는 1 이상 1,000 이하인 자연수입니다.  \n",
    "서로 다른 던전의 [\"최소 필요 피로도\", \"소모 피로도\"]가 서로 같을 수 있습니다.  \n"
   ]
  },
  {
   "cell_type": "code",
   "execution_count": 3,
   "metadata": {},
   "outputs": [
    {
     "data": {
      "text/plain": [
       "4"
      ]
     },
     "execution_count": 3,
     "metadata": {},
     "output_type": "execute_result"
    }
   ],
   "source": [
    "from itertools import permutations\n",
    "\n",
    "def solution(k, dungeons):\n",
    "    max_num = 0\n",
    "    for dungeon_order in permutations(dungeons, len(dungeons)):\n",
    "        tmp_k = k\n",
    "        dungeon_count = 0\n",
    "        for dungeon in dungeon_order:\n",
    "            if dungeon[0] <= tmp_k and (tmp_k-dungeon[1]) >= 0:\n",
    "                tmp_k -= dungeon[1]\n",
    "                dungeon_count += 1\n",
    "        max_num = max(max_num, dungeon_count)\n",
    "                \n",
    "    return max_num\n",
    "\n",
    "# 입출력 예\n",
    "# k\tdungeons\tresult\n",
    "# 80\t[[80,20],[50,40],[30,10]]\t3"
   ]
  },
  {
   "cell_type": "markdown",
   "metadata": {},
   "source": [
    "전력망을 둘로 나누기  \n",
    "\n",
    "n개의 송전탑이 전선을 통해 하나의 트리 형태로 연결되어 있다.  \n",
    "당신은 이 전선들 중 하나를 끊어서 현재의 전력망 네트워크를 2개로 분할하려고 한다.  \n",
    "이때, 두 전력망이 갖게 되는 송전탑의 개수를 최대한 비슷하게 맞추고자 합니다.  \n",
    "  \n",
    "송전탑의 개수 n, 그리고 전선 정보 wires가 매개변수로 주어짐.  \n",
    "전선들 중 하나를 끊어서 송전탑 개수가 가능한 비슷하도록 두 전력망으로 나누었을 때, 두 전력망이 가지고 있는 송전탑 개수의 차이(절대값)를 return  \n",
    "  \n",
    "제한사항  \n",
    "n은 2 이상 100 이하인 자연수입니다.  \n",
    "wires는 길이가 n-1인 정수형 2차원 배열입니다.  \n",
    "wires의 각 원소는 [v1, v2] 2개의 자연수로 이루어져 있으며, 이는 전력망의 v1번 송전탑과 v2번 송전탑이 전선으로 연결되어 있다는 것을 의미합니다.  \n",
    "1 ≤ v1 < v2 ≤ n 입니다.  \n",
    "전력망 네트워크가 하나의 트리 형태가 아닌 경우는 입력으로 주어지지 않습니다.  "
   ]
  },
  {
   "cell_type": "code",
   "execution_count": 20,
   "metadata": {},
   "outputs": [
    {
     "data": {
      "text/plain": [
       "3"
      ]
     },
     "execution_count": 20,
     "metadata": {},
     "output_type": "execute_result"
    }
   ],
   "source": [
    "from collections import defaultdict, deque\n",
    "\n",
    "def solution(n, wires):\n",
    "    graph = defaultdict(list)\n",
    "    for wire in wires:\n",
    "        graph[wire[0]].append(wire[1])\n",
    "        graph[wire[1]].append(wire[0])\n",
    "    \n",
    "    answer = n\n",
    "    for wire in wires:\n",
    "        check = [0, 0]\n",
    "        \n",
    "        for idx, start in enumerate(wire):\n",
    "            visited = [0]*(n+1)\n",
    "            queue = deque([start])\n",
    "            visited[start] = 1\n",
    "            cnt = 1\n",
    "            while queue:\n",
    "                num = queue.popleft()\n",
    "\n",
    "                for v in graph[num]:\n",
    "                    if not visited[v] and v != wire[idx-1]:\n",
    "                        cnt += 1\n",
    "                        visited[v] = 1\n",
    "                        queue.append(v)\n",
    "\n",
    "            check[idx] = cnt\n",
    "        \n",
    "        answer = min(answer, abs(check[0]-check[1]))\n",
    "\n",
    "    return answer\n",
    "\n",
    "# 입출력 예\n",
    "# n\twires\tresult\n",
    "# 9\t[[1,3],[2,3],[3,4],[4,5],[4,6],[4,7],[7,8],[7,9]]\t3\n",
    "# 4\t[[1,2],[2,3],[3,4]]\t0\n",
    "# 7\t[[1,2],[2,7],[3,7],[3,4],[4,5],[6,7]]\t1\n",
    "\n",
    "n = 9\n",
    "wires = [[1,3],[2,3],[3,4],[4,5],[4,6],[4,7],[7,8],[7,9]]\n",
    "\n",
    "# n = 4\n",
    "# wires = [[1,2], [2,3], [3,4]]\n",
    "\n",
    "\n",
    "# # n=7\n",
    "# # wires=[[1,2],[2,7],[3,7],[3,4],[4,5],[6,7]]\n",
    "\n",
    "solution(n, wires)"
   ]
  },
  {
   "cell_type": "markdown",
   "metadata": {},
   "source": [
    "최소직사각형  \n",
    "  \n",
    "명함 지갑을 만드는 회사에서 지갑의 크기를 정하려고 합니다.  \n",
    "다양한 모양과 크기의 명함들을 모두 수납할 수 있으면서, 작아서 들고 다니기 편한 지갑을 만들어야 합니다.  \n",
    "이러한 요건을 만족하는 지갑을 만들기 위해 디자인팀은 모든 명함의 가로 길이와 세로 길이를 조사했습니다.  \n",
    "  \n",
    "아래 표는 4가지 명함의 가로 길이와 세로 길이를 나타냅니다.  \n",
    "  \n",
    "명함 번호\t가로 길이\t세로 길이  \n",
    "1\t60\t50  \n",
    "2\t30\t70  \n",
    "3\t60\t30  \n",
    "4\t80\t40  \n",
    "가장 긴 가로 길이와 세로 길이가 각각 80, 70이기 때문에 80(가로) x 70(세로) 크기의 지갑을 만들면 모든 명함들을 수납할 수 있습니다.  \n",
    "하지만 2번 명함을 가로로 눕혀 수납한다면 80(가로) x 50(세로) 크기의 지갑으로 모든 명함들을 수납할 수 있습니다.  \n",
    "이때의 지갑 크기는 4000(=80 x 50)입니다.  \n",
    "  \n",
    "모든 명함의 가로 길이와 세로 길이를 나타내는 2차원 배열 sizes가 매개변수로 주어집니다. 모든 명함을 수납할 수 있는 가장 작은 지갑을 만들 때, 지갑의 크기를 return  \n",
    "  \n",
    "제한사항  \n",
    "sizes의 길이는 1 이상 10,000 이하입니다.  \n",
    "sizes의 원소는 [w, h] 형식입니다.  \n",
    "w는 명함의 가로 길이를 나타냅니다.  \n",
    "h는 명함의 세로 길이를 나타냅니다.  \n",
    "w와 h는 1 이상 1,000 이하인 자연수입니다.  \n"
   ]
  },
  {
   "cell_type": "code",
   "execution_count": 13,
   "metadata": {},
   "outputs": [
    {
     "data": {
      "text/plain": [
       "120"
      ]
     },
     "execution_count": 13,
     "metadata": {},
     "output_type": "execute_result"
    }
   ],
   "source": [
    "def solution(sizes):\n",
    "    \n",
    "    a, b = 0, 0\n",
    "    for size in sizes:\n",
    "        a = max(a, max(size))\n",
    "        b = max(b, min(size))\n",
    "    \n",
    "    return a * b\n",
    "    \n",
    "\n",
    "# 입출력 예\n",
    "# sizes\tresult\n",
    "# [[60, 50], [30, 70], [60, 30], [80, 40]]\t4000\n",
    "# [[10, 7], [12, 3], [8, 15], [14, 7], [5, 15]]\t120\n",
    "# [[14, 4], [19, 6], [6, 16], [18, 7], [7, 11]]\t\n",
    "\n",
    "# sizes = [[14, 4], [19, 6], [6, 16], [18, 7], [7, 11]]\n",
    "# sizes = [[60, 50], [30, 70], [60, 30], [80, 40]]\n",
    "sizes = [[10, 7], [12, 3], [8, 15], [14, 7], [5, 15]]\n",
    "solution(sizes)"
   ]
  },
  {
   "cell_type": "markdown",
   "metadata": {},
   "source": [
    "모음 사전  \n",
    "  \n",
    "사전에 알파벳 모음 'A', 'E', 'I', 'O', 'U'만을 사용하여 만들 수 있는, 길이 5 이하의 모든 단어가 수록  \n",
    "사전에서 첫 번째 단어는 \"A\"이고, 그다음은 \"AA\"이며, 마지막 단어는 \"UUUUU\"입니다.  \n",
    "  \n",
    "단어 하나 word가 매개변수로 주어질 때, 이 단어가 사전에서 몇 번째 단어인지 return  \n",
    "  \n",
    "제한사항  \n",
    "word의 길이는 1 이상 5 이하  \n",
    "word는 알파벳 대문자 'A', 'E', 'I', 'O', 'U'로만 이루어짐  "
   ]
  },
  {
   "cell_type": "code",
   "execution_count": null,
   "metadata": {},
   "outputs": [],
   "source": [
    "def solution(word):\n",
    "    arr = {\"A\":0, \"E\":1, \"I\":2, \"O\":3, \"U\":4}\n",
    "    N = [781, 156, 31, 6, 1]\n",
    "    answer = 0\n",
    "    for idx, w in enumerate(word):\n",
    "        answer += arr[w] * N[idx] +1\n",
    "    \n",
    "    return answer\n",
    "\n",
    "\n",
    "solution('EIO')\n",
    "# 입출력 예\n",
    "# word\tresult\n",
    "# \"AAAAE\"\t6\n",
    "# \"AAAE\"\t10\n",
    "# \"I\"\t1563\n",
    "# \"EIO\"\t1189"
   ]
  }
 ],
 "metadata": {
  "kernelspec": {
   "display_name": "Python 3.9.10 64-bit",
   "language": "python",
   "name": "python3"
  },
  "language_info": {
   "codemirror_mode": {
    "name": "ipython",
    "version": 3
   },
   "file_extension": ".py",
   "mimetype": "text/x-python",
   "name": "python",
   "nbconvert_exporter": "python",
   "pygments_lexer": "ipython3",
   "version": "3.9.10"
  },
  "orig_nbformat": 4,
  "vscode": {
   "interpreter": {
    "hash": "b0fa6594d8f4cbf19f97940f81e996739fb7646882a419484c72d19e05852a7e"
   }
  }
 },
 "nbformat": 4,
 "nbformat_minor": 2
}

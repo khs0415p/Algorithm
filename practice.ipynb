{
 "cells": [
  {
   "cell_type": "markdown",
   "metadata": {},
   "source": [
    "**서로이어진 아파트 동수들의 정보와 선의 개수가 주어졌을때, 택배기사가 지상으로 이동하는 최소값을 리턴**\n"
   ]
  },
  {
   "cell_type": "code",
   "execution_count": 1,
   "metadata": {},
   "outputs": [
    {
     "data": {
      "text/plain": [
       "2"
      ]
     },
     "execution_count": 1,
     "metadata": {},
     "output_type": "execute_result"
    }
   ],
   "source": [
    "n = 6  # 선의 갯수라 치고\n",
    "nodelist1 = [1,2,3]\n",
    "nodelist2 = [1,2,3]\n",
    "def solution(n, lst1, lst2):\n",
    "    maxn = max(max(nodelist1), max(nodelist2))\n",
    "\n",
    "    groups = []\n",
    "    for a,b in zip(nodelist1, nodelist2):\n",
    "        addg = False\n",
    "        for i in range(len(groups)):\n",
    "            if a in groups[i]:\n",
    "                groups[i].add(b)\n",
    "                addg = True\n",
    "                break\n",
    "            elif b in groups[i]:\n",
    "                groups[i].add(a)\n",
    "                addg=True\n",
    "                break\n",
    "        if not addg:\n",
    "            groups.append({a,b})\n",
    "        \n",
    "    glist = []\n",
    "    for g in groups:\n",
    "        for i in g:\n",
    "            glist.append(i)\n",
    "\n",
    "    for i in range(1, maxn+1):\n",
    "        if i not in glist:\n",
    "            groups.append({i})\n",
    "\n",
    "    return len(groups) -1\n",
    "\n",
    "solution(n, nodelist1, nodelist2)"
   ]
  },
  {
   "cell_type": "code",
   "execution_count": null,
   "metadata": {},
   "outputs": [],
   "source": [
    "from collections import defaultdict, deque\n",
    "\n",
    "def solution(n, arr1, arr2):\n",
    "\tanswer = 0\n",
    "\tgraph = defaultdict(list)\n",
    "\t\n",
    "\tfor a, b in zip(arr1, arr2):\n",
    "\t\tgraph[a].append(b)\n",
    "\t\tgraph[b].append(a)\n",
    "\t\n",
    "\tconfirm = set()\t\n",
    "\t\n",
    "\tfor i in range(1, len(graph) + 1):\n",
    "\t\tif i in confirm:\n",
    "\t\t\tcontinue\n",
    "\t\t\t\n",
    "\t\tq = deque()\n",
    "\t\tq.append(i)\n",
    "\t\t\n",
    "\t\twhile q:\n",
    "\t\t\tend = q.popleft()\n",
    "\t\t\t\n",
    "\t\t\tfor e in graph[end]:\n",
    "\t\t\t\tif e not in confirm:\n",
    "\t\t\t\t\tq.append(e)\n",
    "\t\t\t\t\tconfirm.add(e)\n",
    "\n",
    "\t\tanswer += 1\n",
    "\treturn answer - 1\n",
    "\t\n",
    "n = 6\n",
    "arr1 = [3, 1, 6, 4, 7, 8, 9]\n",
    "arr2 = [2, 3, 2, 5, 5, 9, 10]\n",
    "print(solution(n, arr1, arr2))"
   ]
  },
  {
   "cell_type": "markdown",
   "metadata": {},
   "source": [
    "\n",
    "멀쩡한 사각형"
   ]
  },
  {
   "cell_type": "code",
   "execution_count": 36,
   "metadata": {},
   "outputs": [
    {
     "name": "stdout",
     "output_type": "stream",
     "text": [
      "66822\n"
     ]
    }
   ],
   "source": [
    "import math\n",
    "\n",
    "def solution(w,h):\n",
    "    gcd = math.gcd(w,h)\n",
    "    total = w*h\n",
    "    w,h = min(w,h), max(w,h)\n",
    "    prev_result = 0\n",
    "    broken_square = 0\n",
    "    for i in range(1,w//gcd+1):\n",
    "        y=h/w*i\n",
    "        broken_square += math.ceil(y) - prev_result\n",
    "        prev_result = math.floor(y)\n",
    "    return total - broken_square * gcd"
   ]
  },
  {
   "cell_type": "code",
   "execution_count": 17,
   "metadata": {},
   "outputs": [
    {
     "name": "stdout",
     "output_type": "stream",
     "text": [
      "1\n",
      "80\n"
     ]
    }
   ],
   "source": [
    "import math\n",
    "\n",
    "def solution(w,h):\n",
    "    gcd = math.gcd(w,h)\n",
    "    w,h = min(w,h), max(w,h)\n",
    "    answer = 0\n",
    "    for i in range(1,w//gcd):\n",
    "        res = h/w*i\n",
    "        answer += math.floor(res)\n",
    "    \n",
    "        \n",
    "    return w*h - ((w//gcd) * (h//gcd)-(answer*2)) * gcd\n",
    "\n",
    "print(solution(8,12))"
   ]
  },
  {
   "cell_type": "markdown",
   "metadata": {},
   "source": [
    "기능개발<br>\n",
    "\n",
    "입출력 예\n",
    "progresses\tspeeds\treturn <br>\n",
    "[93, 30, 55]\t[1, 30, 5]\t[2, 1] <br>\n",
    "[95, 90, 99, 99, 80, 99]\t[1, 1, 1, 1, 1, 1]\t[1, 3, 2]\n",
    "\n",
    "\n",
    "첫 번째 기능은 93% 완료되어 있고 하루에 1%씩 작업이 가능하므로 7일간 작업 후 배포가 가능합니다. <br>\n",
    "두 번째 기능은 30%가 완료되어 있고 하루에 30%씩 작업이 가능하므로 3일간 작업 후 배포가 가능합니다. 하지만 이전 첫 번째 기능이 아직 완성된 상태가 아니기 때문에 첫 번째 기능이 배포되는 7일째 배포됩니다. <br>\n",
    "세 번째 기능은 55%가 완료되어 있고 하루에 5%씩 작업이 가능하므로 9일간 작업 후 배포가 가능합니다. <br>\n",
    "\n",
    "따라서 7일째에 2개의 기능, 9일째에 1개의 기능이 배포됩니다. <br>\n",
    "\n",
    "모든 기능이 하루에 1%씩 작업이 가능하므로, 작업이 끝나기까지 남은 일수는 각각 5일, 10일, 1일, 1일, 20일, 1일입니다. 어떤 기능이 먼저 완성되었더라도 앞에 있는 모든 기능이 완성되지 않으면 배포가 불가능합니다.<br>\n",
    "\n",
    "따라서 5일째에 1개의 기능, 10일째에 3개의 기능, 20일째에 2개의 기능이 배포됩니다."
   ]
  },
  {
   "cell_type": "code",
   "execution_count": 23,
   "metadata": {},
   "outputs": [
    {
     "data": {
      "text/plain": [
       "[2, 1]"
      ]
     },
     "execution_count": 23,
     "metadata": {},
     "output_type": "execute_result"
    }
   ],
   "source": [
    "import math\n",
    "\n",
    "progresses = [93, 30, 55]\n",
    "speeds = [1, 30, 5]\n",
    "def solution(progresses, speeds):\n",
    "    results = []\n",
    "    while progresses:\n",
    "        if progresses[0] >= 100:\n",
    "            \n",
    "            results.append(0)            \n",
    "            while progresses[0] >= 100:\n",
    "                progresses.pop(0)\n",
    "                speeds.pop(0)\n",
    "                results[-1] += 1\n",
    "                if not progresses:\n",
    "                    break\n",
    "\n",
    "        else:\n",
    "            for idx, p in enumerate(progresses):\n",
    "                progresses[idx] = p+speeds[idx]\n",
    "\n",
    "    return results\n",
    "\n",
    "solution(progresses, speeds)"
   ]
  },
  {
   "cell_type": "code",
   "execution_count": 38,
   "metadata": {},
   "outputs": [
    {
     "data": {
      "text/plain": [
       "[2, 1]"
      ]
     },
     "execution_count": 38,
     "metadata": {},
     "output_type": "execute_result"
    }
   ],
   "source": [
    "from collections import deque\n",
    "import math\n",
    "\n",
    "def solution(progresses, speeds):\n",
    "    days = [math.ceil((100-p)/s) for p,s in zip(progresses, speeds)]\n",
    "    results = [[days[0],1]]\n",
    "\n",
    "    for day in days[1:]:\n",
    "        \n",
    "        if results[-1][0] >= day:\n",
    "            results[-1][1] += 1\n",
    "        else:\n",
    "            results.append([day,1])\n",
    "    return [result[1] for result in results]\n",
    "\n",
    "progresses = [93, 30, 55]\n",
    "speeds = [1, 30, 5]\n",
    "solution(progresses, speeds)"
   ]
  },
  {
   "cell_type": "markdown",
   "metadata": {},
   "source": [
    "타겟넘버<br>\n",
    "\n",
    "문제 설명<br>\n",
    "n개의 음이 아닌 정수들이 있습니다. 이 정수들을 순서를 바꾸지 않고 적절히 더하거나 빼서 타겟 넘버를 만들려고 합니다. <br>\n",
    "예를 들어 [1, 1, 1, 1, 1]로 숫자 3을 만들려면 다음 다섯 방법을 쓸 수 있습니다."
   ]
  },
  {
   "cell_type": "code",
   "execution_count": 40,
   "metadata": {},
   "outputs": [
    {
     "data": {
      "text/plain": [
       "5"
      ]
     },
     "execution_count": 40,
     "metadata": {},
     "output_type": "execute_result"
    }
   ],
   "source": [
    "# BFS\n",
    "from collections import deque\n",
    "numbers = [1,1,1,1,1]\n",
    "target = 3\n",
    "def solution(numbers, target):\n",
    "    n = len(numbers)\n",
    "    Q = deque()\n",
    "    Q.append([numbers[0],0])\n",
    "    Q.append([-numbers[0],0])\n",
    "    answer = 0\n",
    "    while Q:\n",
    "        num, idx = Q.popleft()\n",
    "        idx+=1\n",
    "        if idx < n:\n",
    "            Q.appendleft([num+numbers[idx], idx])\n",
    "            Q.appendleft([num-numbers[idx], idx])\n",
    "\n",
    "        else:\n",
    "            if num == target:\n",
    "                answer += 1\n",
    "    return answer\n"
   ]
  },
  {
   "cell_type": "code",
   "execution_count": 44,
   "metadata": {},
   "outputs": [
    {
     "data": {
      "text/plain": [
       "5"
      ]
     },
     "execution_count": 44,
     "metadata": {},
     "output_type": "execute_result"
    }
   ],
   "source": [
    "# DFS\n",
    "def solution(numbers, target):\n",
    "    n = len(numbers)\n",
    "    stack = [[numbers[0],0], [-numbers[0],0]]\n",
    "    answer = 0\n",
    "    while stack:\n",
    "        num, idx = stack.pop()\n",
    "        idx += 1\n",
    "        if idx < n:\n",
    "            stack.append([num+numbers[idx],idx])\n",
    "            stack.append([num-numbers[idx],idx])\n",
    "\n",
    "        else:\n",
    "            if num == target:\n",
    "                answer += 1\n",
    "    return answer\n",
    "\n",
    "numbers = [1,1,1,1,1]\n",
    "target = 3\n",
    "solution(numbers, target)\n",
    "\n"
   ]
  },
  {
   "cell_type": "code",
   "execution_count": 47,
   "metadata": {},
   "outputs": [
    {
     "data": {
      "text/plain": [
       "2"
      ]
     },
     "execution_count": 47,
     "metadata": {},
     "output_type": "execute_result"
    }
   ],
   "source": [
    "# recursive\n",
    "def solution(numbers, target):\n",
    "    n = len(numbers)\n",
    "    answer = 0\n",
    "    def recursive(idx, num):\n",
    "        \n",
    "        if idx == n:\n",
    "            if num == target:\n",
    "                nonlocal answer\n",
    "                answer += 1\n",
    "\n",
    "        else:\n",
    "            recursive(idx+1, num+numbers[idx])\n",
    "            recursive(idx+1, num-numbers[idx])\n",
    "\n",
    "    recursive(0, 0)\n",
    "    return answer\n",
    "\n",
    "numbers = [4,1,2,1]\n",
    "target = 4\n",
    "solution(numbers, target)"
   ]
  },
  {
   "cell_type": "markdown",
   "metadata": {},
   "source": [
    "더 맵게"
   ]
  },
  {
   "cell_type": "markdown",
   "metadata": {},
   "source": [
    "\n",
    "매운 것을 좋아하는 Leo는 모든 음식의 스코빌 지수를 K 이상으로 만들고 싶습니다.\n",
    "\n",
    "모든 음식의 스코빌 지수를 K 이상으로 만들기 위해,\n",
    "\n",
    "Leo는 스코빌 지수가 가장 낮은 두 개의 음식을 아래와 같이 특별한 방법으로 섞어 새로운 음식을 만듭니다.\n",
    "\n",
    "섞은 음식의 스코빌 지수 = 가장 맵지 않은 음식의 스코빌 지수 + (두 번째로 맵지 않은 음식의 스코빌 지수 * 2)\n",
    "Leo는 모든 음식의 스코빌 지수가 K 이상이 될 때까지 반복하여 섞습니다.\n",
    "\n",
    "Leo가 가진 음식의 스코빌 지수를 담은 배열 scoville과 원하는 스코빌 지수 K가 주어질 때,\n",
    "\n",
    "모든 음식의 스코빌 지수를 K 이상으로 만들기 위해 섞어야 하는 최소 횟수를 return 하도록 solution 함수를 작성해주세요.\n",
    "\n",
    "제한 사항\n",
    "scoville의 길이는 1 이상 1,000,000 이하입니다.\n",
    "\n",
    "K는 0 이상 1,000,000,000 이하입니다.\n",
    "\n",
    "scoville의 원소는 각각 0 이상 1,000,000 이하입니다.\n",
    "\n",
    "모든 음식의 스코빌 지수를 K 이상으로 만들 수 없는 경우에는 -1을 return 합니다.\n",
    "\n",
    "입출력 예\n",
    "scoville: [1, 2, 3, 9, 10, 12]\n",
    "K: 7\n",
    "return: 2\n",
    "\n",
    "스코빌 지수가 1인 음식과 2인 음식을 섞으면 음식의 스코빌 지수가 아래와 같이 됩니다.\n",
    "\n",
    "새로운 음식의 스코빌 지수 = 1 + (2 * 2) = 5\n",
    "가진 음식의 스코빌 지수 = [5, 3, 9, 10, 12]\n",
    "\n",
    "스코빌 지수가 3인 음식과 5인 음식을 섞으면 음식의 스코빌 지수가 아래와 같이 됩니다.\n",
    "\n",
    "새로운 음식의 스코빌 지수 = 3 + (5 * 2) = 13\n",
    "가진 음식의 스코빌 지수 = [13, 9, 10, 12]\n",
    "모든 음식의 스코빌 지수가 7 이상이 되었고, 이때 섞은 횟수는 2회입니다."
   ]
  },
  {
   "cell_type": "code",
   "execution_count": null,
   "metadata": {},
   "outputs": [],
   "source": [
    "a = [1,2,3,9,10,12]\n",
    "k = 7\n",
    "\n"
   ]
  }
 ],
 "metadata": {
  "interpreter": {
   "hash": "31f2aee4e71d21fbe5cf8b01ff0e069b9275f58929596ceb00d14d90e3e16cd6"
  },
  "kernelspec": {
   "display_name": "Python 3.6.8 64-bit",
   "language": "python",
   "name": "python3"
  },
  "language_info": {
   "codemirror_mode": {
    "name": "ipython",
    "version": 3
   },
   "file_extension": ".py",
   "mimetype": "text/x-python",
   "name": "python",
   "nbconvert_exporter": "python",
   "pygments_lexer": "ipython3",
   "version": "3.8.9"
  },
  "orig_nbformat": 4
 },
 "nbformat": 4,
 "nbformat_minor": 2
}

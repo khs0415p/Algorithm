{
 "cells": [
  {
   "cell_type": "markdown",
   "metadata": {},
   "source": [
    "**서로이어진 아파트 동수들의 정보와 선의 개수가 주어졌을때, 택배기사가 지상으로 이동하는 최소값을 리턴**\n"
   ]
  },
  {
   "cell_type": "code",
   "execution_count": 1,
   "metadata": {},
   "outputs": [
    {
     "data": {
      "text/plain": [
       "2"
      ]
     },
     "execution_count": 1,
     "metadata": {},
     "output_type": "execute_result"
    }
   ],
   "source": [
    "n = 6  # 선의 갯수라 치고\n",
    "nodelist1 = [1,2,3]\n",
    "nodelist2 = [1,2,3]\n",
    "def solution(n, lst1, lst2):\n",
    "    maxn = max(max(nodelist1), max(nodelist2))\n",
    "\n",
    "    groups = []\n",
    "    for a,b in zip(nodelist1, nodelist2):\n",
    "        addg = False\n",
    "        for i in range(len(groups)):\n",
    "            if a in groups[i]:\n",
    "                groups[i].add(b)\n",
    "                addg = True\n",
    "                break\n",
    "            elif b in groups[i]:\n",
    "                groups[i].add(a)\n",
    "                addg=True\n",
    "                break\n",
    "        if not addg:\n",
    "            groups.append({a,b})\n",
    "        \n",
    "    glist = []\n",
    "    for g in groups:\n",
    "        for i in g:\n",
    "            glist.append(i)\n",
    "\n",
    "    for i in range(1, maxn+1):\n",
    "        if i not in glist:\n",
    "            groups.append({i})\n",
    "\n",
    "    return len(groups) -1\n",
    "\n",
    "solution(n, nodelist1, nodelist2)"
   ]
  },
  {
   "cell_type": "code",
   "execution_count": null,
   "metadata": {},
   "outputs": [],
   "source": [
    "from collections import defaultdict, deque\n",
    "\n",
    "def solution(n, arr1, arr2):\n",
    "\tanswer = 0\n",
    "\tgraph = defaultdict(list)\n",
    "\t\n",
    "\tfor a, b in zip(arr1, arr2):\n",
    "\t\tgraph[a].append(b)\n",
    "\t\tgraph[b].append(a)\n",
    "\t\n",
    "\tconfirm = set()\t\n",
    "\t\n",
    "\tfor i in range(1, len(graph) + 1):\n",
    "\t\tif i in confirm:\n",
    "\t\t\tcontinue\n",
    "\t\t\t\n",
    "\t\tq = deque()\n",
    "\t\tq.append(i)\n",
    "\t\t\n",
    "\t\twhile q:\n",
    "\t\t\tend = q.popleft()\n",
    "\t\t\t\n",
    "\t\t\tfor e in graph[end]:\n",
    "\t\t\t\tif e not in confirm:\n",
    "\t\t\t\t\tq.append(e)\n",
    "\t\t\t\t\tconfirm.add(e)\n",
    "\n",
    "\t\tanswer += 1\n",
    "\treturn answer - 1\n",
    "\t\n",
    "n = 6\n",
    "arr1 = [3, 1, 6, 4, 7, 8, 9]\n",
    "arr2 = [2, 3, 2, 5, 5, 9, 10]\n",
    "print(solution(n, arr1, arr2))"
   ]
  },
  {
   "cell_type": "markdown",
   "metadata": {},
   "source": [
    "\n",
    "멀쩡한 사각형"
   ]
  },
  {
   "cell_type": "code",
   "execution_count": null,
   "metadata": {},
   "outputs": [],
   "source": [
    "def solution(w,h):\n",
    "    \n",
    "    return"
   ]
  }
 ],
 "metadata": {
  "interpreter": {
   "hash": "31f2aee4e71d21fbe5cf8b01ff0e069b9275f58929596ceb00d14d90e3e16cd6"
  },
  "kernelspec": {
   "display_name": "Python 3.6.8 64-bit",
   "language": "python",
   "name": "python3"
  },
  "language_info": {
   "codemirror_mode": {
    "name": "ipython",
    "version": 3
   },
   "file_extension": ".py",
   "mimetype": "text/x-python",
   "name": "python",
   "nbconvert_exporter": "python",
   "pygments_lexer": "ipython3",
   "version": "3.8.9"
  },
  "orig_nbformat": 4
 },
 "nbformat": 4,
 "nbformat_minor": 2
}

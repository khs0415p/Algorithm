{
 "cells": [
  {
   "cell_type": "markdown",
   "metadata": {},
   "source": [
    "# 두 큐의 합 같게 만들기\n"
   ]
  },
  {
   "cell_type": "code",
   "execution_count": null,
   "metadata": {},
   "outputs": [],
   "source": [
    "from collections import deque\n",
    "\n",
    "def solution(queue1, queue2):\n",
    "    \n",
    "    sumA = sum(queue1)\n",
    "    sumB = sum(queue2)\n",
    "    length = len(queue1)\n",
    "    queue1 = deque(queue1)\n",
    "    queue2 = deque(queue2)\n",
    "    answer = 0\n",
    "    while answer < length*3:\n",
    "        \n",
    "        if sumA > sumB:\n",
    "            num = queue1.popleft()\n",
    "            sumB += num\n",
    "            sumA -= num\n",
    "            queue2.append(num)\n",
    "\n",
    "        elif sumA < sumB:\n",
    "            num = queue2.popleft()\n",
    "            sumA += num\n",
    "            sumB -= num\n",
    "            queue1.append(num)\n",
    "\n",
    "        else:\n",
    "            return answer\n",
    "\n",
    "        answer += 1\n",
    "\n",
    "    return -1"
   ]
  },
  {
   "cell_type": "markdown",
   "metadata": {},
   "source": [
    "# 양궁대회\n",
    "\n",
    "### bfs, dfs"
   ]
  },
  {
   "cell_type": "code",
   "execution_count": 11,
   "metadata": {},
   "outputs": [
    {
     "data": {
      "text/plain": [
       "[1, 1, 2, 0, 1, 2, 2, 0, 0, 0, 0]"
      ]
     },
     "execution_count": 11,
     "metadata": {},
     "output_type": "execute_result"
    }
   ],
   "source": [
    "from collections import deque\n",
    "# bfs\n",
    "def solution(n, info):\n",
    "    \n",
    "    q = deque([(0, [0,0,0,0,0,0,0,0,0,0,0])])\n",
    "    maxGap = 0\n",
    "    result = None\n",
    "\n",
    "    while q:\n",
    "        idx, scores = q.popleft()\n",
    "\n",
    "        if sum(scores) == n:\n",
    "            apeach, ryan = 0, 0\n",
    "            for i in range(11):\n",
    "                if scores[i] == info[i] == 0:\n",
    "                    continue\n",
    "\n",
    "                if scores[i] > info[i]:\n",
    "                    ryan += (10 - i)\n",
    "\n",
    "                else:\n",
    "                    apeach += (10 - i)\n",
    "\n",
    "            gap = (ryan - apeach)\n",
    "\n",
    "            if gap >= maxGap:\n",
    "                maxGap = gap\n",
    "                result = scores\n",
    "\n",
    "        elif sum(scores) > n:\n",
    "            continue\n",
    "\n",
    "        elif idx == 10:\n",
    "            tmp = scores.copy()\n",
    "            tmp[idx] = n - sum(tmp)\n",
    "            q.append((idx+1, tmp))\n",
    "\n",
    "        else:\n",
    "            tmp = scores.copy()\n",
    "            tmp[idx] = info[idx] + 1\n",
    "            q.append((idx+1, tmp))\n",
    "\n",
    "            tmp2 = scores.copy()\n",
    "            tmp2[idx] = 0\n",
    "            q.append((idx+1, tmp2))\n",
    "\n",
    "    if not result:\n",
    "        return [-1]\n",
    "\n",
    "    return result\n",
    "\n",
    "n = 5\n",
    "info = [2,1,1,1,0,0,0,0,0,0,0]\n",
    "# [0,2,2,0,1,0,0,0,0,0,0]\n",
    "\n",
    "n=1\n",
    "info=[1,0,0,0,0,0,0,0,0,0,0]\n",
    "# [-1]\n",
    "\n",
    "n = 9\n",
    "info = [0,0,1,2,0,1,1,1,1,1,1]\n",
    "# [1,1,2,0,1,2,2,0,0,0,0]\n",
    "\n",
    "n = 10\n",
    "info = [0,0,0,0,0,0,0,0,3,4,3]\n",
    "# [1,1,1,1,1,1,1,1,0,0,2]\n",
    "\n",
    "solution(n, info)\n"
   ]
  },
  {
   "cell_type": "code",
   "execution_count": 14,
   "metadata": {},
   "outputs": [
    {
     "data": {
      "text/plain": [
       "[1, 1, 1, 1, 1, 1, 1, 1, 0, 0, 2]"
      ]
     },
     "execution_count": 14,
     "metadata": {},
     "output_type": "execute_result"
    }
   ],
   "source": [
    "# dfs\n",
    "def solution(n, info):\n",
    "    global answer, result\n",
    "\n",
    "    def score(ryan):\n",
    "        s = 0\n",
    "        for i in range(11):\n",
    "            if ryan[i] == info[i] == 0:\n",
    "                continue\n",
    "            if ryan[i] > info[i]:\n",
    "                s += 10 - i\n",
    "            else:\n",
    "                s -= 10 - i\n",
    "        return s\n",
    "\n",
    "    def dfs(idx, left, ryan):\n",
    "        global answer, result\n",
    "        if idx == -1 and left:\n",
    "            return\n",
    "        if left == 0:\n",
    "            s = score(ryan)\n",
    "            if result < s:\n",
    "                answer = ryan[:]\n",
    "                result = s\n",
    "            return\n",
    "        for i in range(left, -1, -1):\n",
    "            ryan[idx] = i\n",
    "            dfs(idx-1, left-i, ryan)\n",
    "            ryan[idx] = 0\n",
    "\n",
    "    answer = [0 for _ in range(11)]\n",
    "    result = 0\n",
    "    dfs(10, n, [0 for _ in range(11)])\n",
    "    return answer if result != 0 else [-1]\n",
    "\n",
    "\n",
    "n = 10\n",
    "info = [0,0,0,0,0,0,0,0,3,4,3]\n",
    "# [1,1,1,1,1,1,1,1,0,0,2]\n",
    "\n",
    "solution(n, info)"
   ]
  }
 ],
 "metadata": {
  "kernelspec": {
   "display_name": "Python 3.9.10 64-bit",
   "language": "python",
   "name": "python3"
  },
  "language_info": {
   "codemirror_mode": {
    "name": "ipython",
    "version": 3
   },
   "file_extension": ".py",
   "mimetype": "text/x-python",
   "name": "python",
   "nbconvert_exporter": "python",
   "pygments_lexer": "ipython3",
   "version": "3.9.10"
  },
  "orig_nbformat": 4,
  "vscode": {
   "interpreter": {
    "hash": "b0fa6594d8f4cbf19f97940f81e996739fb7646882a419484c72d19e05852a7e"
   }
  }
 },
 "nbformat": 4,
 "nbformat_minor": 2
}
